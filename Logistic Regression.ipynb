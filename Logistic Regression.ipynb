{
 "cells": [
  {
   "cell_type": "markdown",
   "metadata": {},
   "source": [
    "# Predicting Grad School Admission with Logistic Regression\n",
    "\n",
    "A simple implementation of logistic regression for machine learning in Python to create a model that predicts the admission of candidates into graduate schools. \n",
    "\n",
    "Uses data from UCLA. Credit to the examples from yhat at http://blog.yhat.com/posts/logistic-regression-and-python.html and dataschool at http://nbviewer.jupyter.org/gist/justmarkham/6d5c061ca5aee67c4316471f8c2ae976 for being starting points and good guides (though the examples are not strictly followed)."
   ]
  },
  {
   "cell_type": "code",
   "execution_count": 1,
   "metadata": {
    "collapsed": false
   },
   "outputs": [],
   "source": [
    "# Import necessary libraries\n",
    "import pandas as pd\n",
    "import numpy as np\n",
    "import matplotlib.pyplot as plt\n",
    "import seaborn as sns\n",
    "from sklearn.linear_model import LogisticRegression\n",
    "from sklearn.cross_validation import train_test_split, cross_val_score\n",
    "from sklearn import metrics"
   ]
  },
  {
   "cell_type": "markdown",
   "metadata": {},
   "source": [
    "## The Dataset\n",
    "\n",
    "The data from UCLA (found at http://www.ats.ucla.edu/stat/data/binary.csv and originally used in this example: http://www.ats.ucla.edu/stat/r/dae/logit.htm) contains 4 columns:\n",
    "* admit - a binary variable describing if the student was admitted into grad school or not\n",
    "* gre - the student's Graduate Record Examination (GRE) score\n",
    "* gpa - the student's grade point average (GPA)\n",
    "* rank - the prestige of the student's undergraduate school, ranked from 1 to 4\n",
    "\n",
    "The columns will be renamed to \"Admit,\" \"GRE,\" \"GPA,\" and \"Prestige\" as we import the data to make them more human-friendly. Note that \"rank\" is renamed to \"Prestige\" to avoid confusion with a method of pandas."
   ]
  },
  {
   "cell_type": "code",
   "execution_count": 2,
   "metadata": {
    "collapsed": false
   },
   "outputs": [
    {
     "data": {
      "text/html": [
       "<div>\n",
       "<table border=\"1\" class=\"dataframe\">\n",
       "  <thead>\n",
       "    <tr style=\"text-align: right;\">\n",
       "      <th></th>\n",
       "      <th>Admit</th>\n",
       "      <th>GRE</th>\n",
       "      <th>GPA</th>\n",
       "      <th>Prestige</th>\n",
       "    </tr>\n",
       "  </thead>\n",
       "  <tbody>\n",
       "    <tr>\n",
       "      <th>0</th>\n",
       "      <td>0</td>\n",
       "      <td>380</td>\n",
       "      <td>3.61</td>\n",
       "      <td>3</td>\n",
       "    </tr>\n",
       "    <tr>\n",
       "      <th>1</th>\n",
       "      <td>1</td>\n",
       "      <td>660</td>\n",
       "      <td>3.67</td>\n",
       "      <td>3</td>\n",
       "    </tr>\n",
       "    <tr>\n",
       "      <th>2</th>\n",
       "      <td>1</td>\n",
       "      <td>800</td>\n",
       "      <td>4.00</td>\n",
       "      <td>1</td>\n",
       "    </tr>\n",
       "    <tr>\n",
       "      <th>3</th>\n",
       "      <td>1</td>\n",
       "      <td>640</td>\n",
       "      <td>3.19</td>\n",
       "      <td>4</td>\n",
       "    </tr>\n",
       "    <tr>\n",
       "      <th>4</th>\n",
       "      <td>0</td>\n",
       "      <td>520</td>\n",
       "      <td>2.93</td>\n",
       "      <td>4</td>\n",
       "    </tr>\n",
       "  </tbody>\n",
       "</table>\n",
       "</div>"
      ],
      "text/plain": [
       "   Admit  GRE   GPA  Prestige\n",
       "0      0  380  3.61         3\n",
       "1      1  660  3.67         3\n",
       "2      1  800  4.00         1\n",
       "3      1  640  3.19         4\n",
       "4      0  520  2.93         4"
      ]
     },
     "execution_count": 2,
     "metadata": {},
     "output_type": "execute_result"
    }
   ],
   "source": [
    "# As we import the data, we rename the \"Rank\" column to \"Prestige\" to avoid confusion with the rank method of pandas\n",
    "df = pd.read_csv(\"http://www.ats.ucla.edu/stat/data/binary.csv\", header = 0, names = [\"Admit\", 'GRE', 'GPA', 'Prestige'])\n",
    "df.head()"
   ]
  },
  {
   "cell_type": "markdown",
   "metadata": {},
   "source": [
    "## Initial Exploratory Data Analysis\n",
    "\n",
    "We take a look at basic summary statistics, a cross-tabulation, and a histogram to get a general idea of the contents of the data."
   ]
  },
  {
   "cell_type": "code",
   "execution_count": 3,
   "metadata": {
    "collapsed": false
   },
   "outputs": [
    {
     "data": {
      "text/html": [
       "<div>\n",
       "<table border=\"1\" class=\"dataframe\">\n",
       "  <thead>\n",
       "    <tr style=\"text-align: right;\">\n",
       "      <th></th>\n",
       "      <th>Admit</th>\n",
       "      <th>GRE</th>\n",
       "      <th>GPA</th>\n",
       "      <th>Prestige</th>\n",
       "    </tr>\n",
       "  </thead>\n",
       "  <tbody>\n",
       "    <tr>\n",
       "      <th>count</th>\n",
       "      <td>400.000000</td>\n",
       "      <td>400.000000</td>\n",
       "      <td>400.000000</td>\n",
       "      <td>400.00000</td>\n",
       "    </tr>\n",
       "    <tr>\n",
       "      <th>mean</th>\n",
       "      <td>0.317500</td>\n",
       "      <td>587.700000</td>\n",
       "      <td>3.389900</td>\n",
       "      <td>2.48500</td>\n",
       "    </tr>\n",
       "    <tr>\n",
       "      <th>std</th>\n",
       "      <td>0.466087</td>\n",
       "      <td>115.516536</td>\n",
       "      <td>0.380567</td>\n",
       "      <td>0.94446</td>\n",
       "    </tr>\n",
       "    <tr>\n",
       "      <th>min</th>\n",
       "      <td>0.000000</td>\n",
       "      <td>220.000000</td>\n",
       "      <td>2.260000</td>\n",
       "      <td>1.00000</td>\n",
       "    </tr>\n",
       "    <tr>\n",
       "      <th>25%</th>\n",
       "      <td>0.000000</td>\n",
       "      <td>520.000000</td>\n",
       "      <td>3.130000</td>\n",
       "      <td>2.00000</td>\n",
       "    </tr>\n",
       "    <tr>\n",
       "      <th>50%</th>\n",
       "      <td>0.000000</td>\n",
       "      <td>580.000000</td>\n",
       "      <td>3.395000</td>\n",
       "      <td>2.00000</td>\n",
       "    </tr>\n",
       "    <tr>\n",
       "      <th>75%</th>\n",
       "      <td>1.000000</td>\n",
       "      <td>660.000000</td>\n",
       "      <td>3.670000</td>\n",
       "      <td>3.00000</td>\n",
       "    </tr>\n",
       "    <tr>\n",
       "      <th>max</th>\n",
       "      <td>1.000000</td>\n",
       "      <td>800.000000</td>\n",
       "      <td>4.000000</td>\n",
       "      <td>4.00000</td>\n",
       "    </tr>\n",
       "  </tbody>\n",
       "</table>\n",
       "</div>"
      ],
      "text/plain": [
       "            Admit         GRE         GPA   Prestige\n",
       "count  400.000000  400.000000  400.000000  400.00000\n",
       "mean     0.317500  587.700000    3.389900    2.48500\n",
       "std      0.466087  115.516536    0.380567    0.94446\n",
       "min      0.000000  220.000000    2.260000    1.00000\n",
       "25%      0.000000  520.000000    3.130000    2.00000\n",
       "50%      0.000000  580.000000    3.395000    2.00000\n",
       "75%      1.000000  660.000000    3.670000    3.00000\n",
       "max      1.000000  800.000000    4.000000    4.00000"
      ]
     },
     "execution_count": 3,
     "metadata": {},
     "output_type": "execute_result"
    }
   ],
   "source": [
    "# Basic summary of the data\n",
    "df.describe()"
   ]
  },
  {
   "cell_type": "code",
   "execution_count": 4,
   "metadata": {
    "collapsed": false
   },
   "outputs": [
    {
     "data": {
      "text/html": [
       "<div>\n",
       "<table border=\"1\" class=\"dataframe\">\n",
       "  <thead>\n",
       "    <tr style=\"text-align: right;\">\n",
       "      <th>Prestige</th>\n",
       "      <th>1</th>\n",
       "      <th>2</th>\n",
       "      <th>3</th>\n",
       "      <th>4</th>\n",
       "    </tr>\n",
       "    <tr>\n",
       "      <th>Admission</th>\n",
       "      <th></th>\n",
       "      <th></th>\n",
       "      <th></th>\n",
       "      <th></th>\n",
       "    </tr>\n",
       "  </thead>\n",
       "  <tbody>\n",
       "    <tr>\n",
       "      <th>0</th>\n",
       "      <td>28</td>\n",
       "      <td>97</td>\n",
       "      <td>93</td>\n",
       "      <td>55</td>\n",
       "    </tr>\n",
       "    <tr>\n",
       "      <th>1</th>\n",
       "      <td>33</td>\n",
       "      <td>54</td>\n",
       "      <td>28</td>\n",
       "      <td>12</td>\n",
       "    </tr>\n",
       "  </tbody>\n",
       "</table>\n",
       "</div>"
      ],
      "text/plain": [
       "Prestige    1   2   3   4\n",
       "Admission                \n",
       "0          28  97  93  55\n",
       "1          33  54  28  12"
      ]
     },
     "execution_count": 4,
     "metadata": {},
     "output_type": "execute_result"
    }
   ],
   "source": [
    "# Generate a cross-tabulation (frequency table by default) of the factors; here we use prestige\n",
    "pd.crosstab(df['Admit'], df['Prestige'], rownames=['Admission'])"
   ]
  },
  {
   "cell_type": "markdown",
   "metadata": {},
   "source": [
    "Based on the cruss-tabulation above, it appears that prestige is a significant factor in admission, with those in schools of rank 1 having more admits than not, and those from schools of rank 4 being largely rejected."
   ]
  },
  {
   "cell_type": "code",
   "execution_count": 5,
   "metadata": {
    "collapsed": false
   },
   "outputs": [
    {
     "data": {
      "image/png": "[encoded data removed]",
      "text/plain": [
       "<matplotlib.figure.Figure at 0x1823748c0f0>"
      ]
     },
     "metadata": {},
     "output_type": "display_data"
    }
   ],
   "source": [
    "# Generate histograms\n",
    "sns.set_color_codes('muted')\n",
    "df.hist(color='g')\n",
    "plt.show()"
   ]
  },
  {
   "cell_type": "markdown",
   "metadata": {},
   "source": [
    "## Preprocessing the Data\n",
    "\n",
    "While the data is already very analysis-friendly, we still have to change the categorial variable (prestige) into a binary one to be able to create a logistic regression model."
   ]
  },
  {
   "cell_type": "code",
   "execution_count": 6,
   "metadata": {
    "collapsed": false
   },
   "outputs": [
    {
     "data": {
      "text/html": [
       "<div>\n",
       "<table border=\"1\" class=\"dataframe\">\n",
       "  <thead>\n",
       "    <tr style=\"text-align: right;\">\n",
       "      <th></th>\n",
       "      <th>Prestige_1</th>\n",
       "      <th>Prestige_2</th>\n",
       "      <th>Prestige_3</th>\n",
       "      <th>Prestige_4</th>\n",
       "    </tr>\n",
       "  </thead>\n",
       "  <tbody>\n",
       "    <tr>\n",
       "      <th>0</th>\n",
       "      <td>0.0</td>\n",
       "      <td>0.0</td>\n",
       "      <td>1.0</td>\n",
       "      <td>0.0</td>\n",
       "    </tr>\n",
       "    <tr>\n",
       "      <th>1</th>\n",
       "      <td>0.0</td>\n",
       "      <td>0.0</td>\n",
       "      <td>1.0</td>\n",
       "      <td>0.0</td>\n",
       "    </tr>\n",
       "    <tr>\n",
       "      <th>2</th>\n",
       "      <td>1.0</td>\n",
       "      <td>0.0</td>\n",
       "      <td>0.0</td>\n",
       "      <td>0.0</td>\n",
       "    </tr>\n",
       "    <tr>\n",
       "      <th>3</th>\n",
       "      <td>0.0</td>\n",
       "      <td>0.0</td>\n",
       "      <td>0.0</td>\n",
       "      <td>1.0</td>\n",
       "    </tr>\n",
       "    <tr>\n",
       "      <th>4</th>\n",
       "      <td>0.0</td>\n",
       "      <td>0.0</td>\n",
       "      <td>0.0</td>\n",
       "      <td>1.0</td>\n",
       "    </tr>\n",
       "  </tbody>\n",
       "</table>\n",
       "</div>"
      ],
      "text/plain": [
       "   Prestige_1  Prestige_2  Prestige_3  Prestige_4\n",
       "0         0.0         0.0         1.0         0.0\n",
       "1         0.0         0.0         1.0         0.0\n",
       "2         1.0         0.0         0.0         0.0\n",
       "3         0.0         0.0         0.0         1.0\n",
       "4         0.0         0.0         0.0         1.0"
      ]
     },
     "execution_count": 6,
     "metadata": {},
     "output_type": "execute_result"
    }
   ],
   "source": [
    "# Dummy code the rank variable\n",
    "dummy_ranks = pd.get_dummies(df['Prestige'], prefix=\"Prestige\")\n",
    "dummy_ranks.head()"
   ]
  },
  {
   "cell_type": "markdown",
   "metadata": {},
   "source": [
    "Given that prestige is a categorical value, we perform dummy coding to convert the values into binary variables."
   ]
  },
  {
   "cell_type": "code",
   "execution_count": 7,
   "metadata": {
    "collapsed": false
   },
   "outputs": [
    {
     "data": {
      "text/html": [
       "<div>\n",
       "<table border=\"1\" class=\"dataframe\">\n",
       "  <thead>\n",
       "    <tr style=\"text-align: right;\">\n",
       "      <th></th>\n",
       "      <th>Admit</th>\n",
       "      <th>GRE</th>\n",
       "      <th>GPA</th>\n",
       "      <th>Prestige_1</th>\n",
       "      <th>Prestige_2</th>\n",
       "      <th>Prestige_3</th>\n",
       "    </tr>\n",
       "  </thead>\n",
       "  <tbody>\n",
       "    <tr>\n",
       "      <th>0</th>\n",
       "      <td>0</td>\n",
       "      <td>380</td>\n",
       "      <td>3.61</td>\n",
       "      <td>0.0</td>\n",
       "      <td>0.0</td>\n",
       "      <td>1.0</td>\n",
       "    </tr>\n",
       "    <tr>\n",
       "      <th>1</th>\n",
       "      <td>1</td>\n",
       "      <td>660</td>\n",
       "      <td>3.67</td>\n",
       "      <td>0.0</td>\n",
       "      <td>0.0</td>\n",
       "      <td>1.0</td>\n",
       "    </tr>\n",
       "    <tr>\n",
       "      <th>2</th>\n",
       "      <td>1</td>\n",
       "      <td>800</td>\n",
       "      <td>4.00</td>\n",
       "      <td>1.0</td>\n",
       "      <td>0.0</td>\n",
       "      <td>0.0</td>\n",
       "    </tr>\n",
       "    <tr>\n",
       "      <th>3</th>\n",
       "      <td>1</td>\n",
       "      <td>640</td>\n",
       "      <td>3.19</td>\n",
       "      <td>0.0</td>\n",
       "      <td>0.0</td>\n",
       "      <td>0.0</td>\n",
       "    </tr>\n",
       "    <tr>\n",
       "      <th>4</th>\n",
       "      <td>0</td>\n",
       "      <td>520</td>\n",
       "      <td>2.93</td>\n",
       "      <td>0.0</td>\n",
       "      <td>0.0</td>\n",
       "      <td>0.0</td>\n",
       "    </tr>\n",
       "    <tr>\n",
       "      <th>5</th>\n",
       "      <td>1</td>\n",
       "      <td>760</td>\n",
       "      <td>3.00</td>\n",
       "      <td>0.0</td>\n",
       "      <td>1.0</td>\n",
       "      <td>0.0</td>\n",
       "    </tr>\n",
       "    <tr>\n",
       "      <th>6</th>\n",
       "      <td>1</td>\n",
       "      <td>560</td>\n",
       "      <td>2.98</td>\n",
       "      <td>1.0</td>\n",
       "      <td>0.0</td>\n",
       "      <td>0.0</td>\n",
       "    </tr>\n",
       "    <tr>\n",
       "      <th>7</th>\n",
       "      <td>0</td>\n",
       "      <td>400</td>\n",
       "      <td>3.08</td>\n",
       "      <td>0.0</td>\n",
       "      <td>1.0</td>\n",
       "      <td>0.0</td>\n",
       "    </tr>\n",
       "    <tr>\n",
       "      <th>8</th>\n",
       "      <td>1</td>\n",
       "      <td>540</td>\n",
       "      <td>3.39</td>\n",
       "      <td>0.0</td>\n",
       "      <td>0.0</td>\n",
       "      <td>1.0</td>\n",
       "    </tr>\n",
       "    <tr>\n",
       "      <th>9</th>\n",
       "      <td>0</td>\n",
       "      <td>700</td>\n",
       "      <td>3.92</td>\n",
       "      <td>0.0</td>\n",
       "      <td>1.0</td>\n",
       "      <td>0.0</td>\n",
       "    </tr>\n",
       "    <tr>\n",
       "      <th>10</th>\n",
       "      <td>0</td>\n",
       "      <td>800</td>\n",
       "      <td>4.00</td>\n",
       "      <td>0.0</td>\n",
       "      <td>0.0</td>\n",
       "      <td>0.0</td>\n",
       "    </tr>\n",
       "    <tr>\n",
       "      <th>11</th>\n",
       "      <td>0</td>\n",
       "      <td>440</td>\n",
       "      <td>3.22</td>\n",
       "      <td>1.0</td>\n",
       "      <td>0.0</td>\n",
       "      <td>0.0</td>\n",
       "    </tr>\n",
       "    <tr>\n",
       "      <th>12</th>\n",
       "      <td>1</td>\n",
       "      <td>760</td>\n",
       "      <td>4.00</td>\n",
       "      <td>1.0</td>\n",
       "      <td>0.0</td>\n",
       "      <td>0.0</td>\n",
       "    </tr>\n",
       "    <tr>\n",
       "      <th>13</th>\n",
       "      <td>0</td>\n",
       "      <td>700</td>\n",
       "      <td>3.08</td>\n",
       "      <td>0.0</td>\n",
       "      <td>1.0</td>\n",
       "      <td>0.0</td>\n",
       "    </tr>\n",
       "    <tr>\n",
       "      <th>14</th>\n",
       "      <td>1</td>\n",
       "      <td>700</td>\n",
       "      <td>4.00</td>\n",
       "      <td>1.0</td>\n",
       "      <td>0.0</td>\n",
       "      <td>0.0</td>\n",
       "    </tr>\n",
       "    <tr>\n",
       "      <th>15</th>\n",
       "      <td>0</td>\n",
       "      <td>480</td>\n",
       "      <td>3.44</td>\n",
       "      <td>0.0</td>\n",
       "      <td>0.0</td>\n",
       "      <td>1.0</td>\n",
       "    </tr>\n",
       "    <tr>\n",
       "      <th>16</th>\n",
       "      <td>0</td>\n",
       "      <td>780</td>\n",
       "      <td>3.87</td>\n",
       "      <td>0.0</td>\n",
       "      <td>0.0</td>\n",
       "      <td>0.0</td>\n",
       "    </tr>\n",
       "    <tr>\n",
       "      <th>17</th>\n",
       "      <td>0</td>\n",
       "      <td>360</td>\n",
       "      <td>2.56</td>\n",
       "      <td>0.0</td>\n",
       "      <td>0.0</td>\n",
       "      <td>1.0</td>\n",
       "    </tr>\n",
       "    <tr>\n",
       "      <th>18</th>\n",
       "      <td>0</td>\n",
       "      <td>800</td>\n",
       "      <td>3.75</td>\n",
       "      <td>0.0</td>\n",
       "      <td>1.0</td>\n",
       "      <td>0.0</td>\n",
       "    </tr>\n",
       "    <tr>\n",
       "      <th>19</th>\n",
       "      <td>1</td>\n",
       "      <td>540</td>\n",
       "      <td>3.81</td>\n",
       "      <td>1.0</td>\n",
       "      <td>0.0</td>\n",
       "      <td>0.0</td>\n",
       "    </tr>\n",
       "    <tr>\n",
       "      <th>20</th>\n",
       "      <td>0</td>\n",
       "      <td>500</td>\n",
       "      <td>3.17</td>\n",
       "      <td>0.0</td>\n",
       "      <td>0.0</td>\n",
       "      <td>1.0</td>\n",
       "    </tr>\n",
       "    <tr>\n",
       "      <th>21</th>\n",
       "      <td>1</td>\n",
       "      <td>660</td>\n",
       "      <td>3.63</td>\n",
       "      <td>0.0</td>\n",
       "      <td>1.0</td>\n",
       "      <td>0.0</td>\n",
       "    </tr>\n",
       "    <tr>\n",
       "      <th>22</th>\n",
       "      <td>0</td>\n",
       "      <td>600</td>\n",
       "      <td>2.82</td>\n",
       "      <td>0.0</td>\n",
       "      <td>0.0</td>\n",
       "      <td>0.0</td>\n",
       "    </tr>\n",
       "    <tr>\n",
       "      <th>23</th>\n",
       "      <td>0</td>\n",
       "      <td>680</td>\n",
       "      <td>3.19</td>\n",
       "      <td>0.0</td>\n",
       "      <td>0.0</td>\n",
       "      <td>0.0</td>\n",
       "    </tr>\n",
       "    <tr>\n",
       "      <th>24</th>\n",
       "      <td>1</td>\n",
       "      <td>760</td>\n",
       "      <td>3.35</td>\n",
       "      <td>0.0</td>\n",
       "      <td>1.0</td>\n",
       "      <td>0.0</td>\n",
       "    </tr>\n",
       "    <tr>\n",
       "      <th>25</th>\n",
       "      <td>1</td>\n",
       "      <td>800</td>\n",
       "      <td>3.66</td>\n",
       "      <td>1.0</td>\n",
       "      <td>0.0</td>\n",
       "      <td>0.0</td>\n",
       "    </tr>\n",
       "    <tr>\n",
       "      <th>26</th>\n",
       "      <td>1</td>\n",
       "      <td>620</td>\n",
       "      <td>3.61</td>\n",
       "      <td>1.0</td>\n",
       "      <td>0.0</td>\n",
       "      <td>0.0</td>\n",
       "    </tr>\n",
       "    <tr>\n",
       "      <th>27</th>\n",
       "      <td>1</td>\n",
       "      <td>520</td>\n",
       "      <td>3.74</td>\n",
       "      <td>0.0</td>\n",
       "      <td>0.0</td>\n",
       "      <td>0.0</td>\n",
       "    </tr>\n",
       "    <tr>\n",
       "      <th>28</th>\n",
       "      <td>1</td>\n",
       "      <td>780</td>\n",
       "      <td>3.22</td>\n",
       "      <td>0.0</td>\n",
       "      <td>1.0</td>\n",
       "      <td>0.0</td>\n",
       "    </tr>\n",
       "    <tr>\n",
       "      <th>29</th>\n",
       "      <td>0</td>\n",
       "      <td>520</td>\n",
       "      <td>3.29</td>\n",
       "      <td>1.0</td>\n",
       "      <td>0.0</td>\n",
       "      <td>0.0</td>\n",
       "    </tr>\n",
       "    <tr>\n",
       "      <th>...</th>\n",
       "      <td>...</td>\n",
       "      <td>...</td>\n",
       "      <td>...</td>\n",
       "      <td>...</td>\n",
       "      <td>...</td>\n",
       "      <td>...</td>\n",
       "    </tr>\n",
       "    <tr>\n",
       "      <th>370</th>\n",
       "      <td>1</td>\n",
       "      <td>540</td>\n",
       "      <td>3.77</td>\n",
       "      <td>0.0</td>\n",
       "      <td>1.0</td>\n",
       "      <td>0.0</td>\n",
       "    </tr>\n",
       "    <tr>\n",
       "      <th>371</th>\n",
       "      <td>1</td>\n",
       "      <td>680</td>\n",
       "      <td>3.76</td>\n",
       "      <td>0.0</td>\n",
       "      <td>0.0</td>\n",
       "      <td>1.0</td>\n",
       "    </tr>\n",
       "    <tr>\n",
       "      <th>372</th>\n",
       "      <td>1</td>\n",
       "      <td>680</td>\n",
       "      <td>2.42</td>\n",
       "      <td>1.0</td>\n",
       "      <td>0.0</td>\n",
       "      <td>0.0</td>\n",
       "    </tr>\n",
       "    <tr>\n",
       "      <th>373</th>\n",
       "      <td>1</td>\n",
       "      <td>620</td>\n",
       "      <td>3.37</td>\n",
       "      <td>1.0</td>\n",
       "      <td>0.0</td>\n",
       "      <td>0.0</td>\n",
       "    </tr>\n",
       "    <tr>\n",
       "      <th>374</th>\n",
       "      <td>0</td>\n",
       "      <td>560</td>\n",
       "      <td>3.78</td>\n",
       "      <td>0.0</td>\n",
       "      <td>1.0</td>\n",
       "      <td>0.0</td>\n",
       "    </tr>\n",
       "    <tr>\n",
       "      <th>375</th>\n",
       "      <td>0</td>\n",
       "      <td>560</td>\n",
       "      <td>3.49</td>\n",
       "      <td>0.0</td>\n",
       "      <td>0.0</td>\n",
       "      <td>0.0</td>\n",
       "    </tr>\n",
       "    <tr>\n",
       "      <th>376</th>\n",
       "      <td>0</td>\n",
       "      <td>620</td>\n",
       "      <td>3.63</td>\n",
       "      <td>0.0</td>\n",
       "      <td>1.0</td>\n",
       "      <td>0.0</td>\n",
       "    </tr>\n",
       "    <tr>\n",
       "      <th>377</th>\n",
       "      <td>1</td>\n",
       "      <td>800</td>\n",
       "      <td>4.00</td>\n",
       "      <td>0.0</td>\n",
       "      <td>1.0</td>\n",
       "      <td>0.0</td>\n",
       "    </tr>\n",
       "    <tr>\n",
       "      <th>378</th>\n",
       "      <td>0</td>\n",
       "      <td>640</td>\n",
       "      <td>3.12</td>\n",
       "      <td>0.0</td>\n",
       "      <td>0.0</td>\n",
       "      <td>1.0</td>\n",
       "    </tr>\n",
       "    <tr>\n",
       "      <th>379</th>\n",
       "      <td>0</td>\n",
       "      <td>540</td>\n",
       "      <td>2.70</td>\n",
       "      <td>0.0</td>\n",
       "      <td>1.0</td>\n",
       "      <td>0.0</td>\n",
       "    </tr>\n",
       "    <tr>\n",
       "      <th>380</th>\n",
       "      <td>0</td>\n",
       "      <td>700</td>\n",
       "      <td>3.65</td>\n",
       "      <td>0.0</td>\n",
       "      <td>1.0</td>\n",
       "      <td>0.0</td>\n",
       "    </tr>\n",
       "    <tr>\n",
       "      <th>381</th>\n",
       "      <td>1</td>\n",
       "      <td>540</td>\n",
       "      <td>3.49</td>\n",
       "      <td>0.0</td>\n",
       "      <td>1.0</td>\n",
       "      <td>0.0</td>\n",
       "    </tr>\n",
       "    <tr>\n",
       "      <th>382</th>\n",
       "      <td>0</td>\n",
       "      <td>540</td>\n",
       "      <td>3.51</td>\n",
       "      <td>0.0</td>\n",
       "      <td>1.0</td>\n",
       "      <td>0.0</td>\n",
       "    </tr>\n",
       "    <tr>\n",
       "      <th>383</th>\n",
       "      <td>0</td>\n",
       "      <td>660</td>\n",
       "      <td>4.00</td>\n",
       "      <td>1.0</td>\n",
       "      <td>0.0</td>\n",
       "      <td>0.0</td>\n",
       "    </tr>\n",
       "    <tr>\n",
       "      <th>384</th>\n",
       "      <td>1</td>\n",
       "      <td>480</td>\n",
       "      <td>2.62</td>\n",
       "      <td>0.0</td>\n",
       "      <td>1.0</td>\n",
       "      <td>0.0</td>\n",
       "    </tr>\n",
       "    <tr>\n",
       "      <th>385</th>\n",
       "      <td>0</td>\n",
       "      <td>420</td>\n",
       "      <td>3.02</td>\n",
       "      <td>1.0</td>\n",
       "      <td>0.0</td>\n",
       "      <td>0.0</td>\n",
       "    </tr>\n",
       "    <tr>\n",
       "      <th>386</th>\n",
       "      <td>1</td>\n",
       "      <td>740</td>\n",
       "      <td>3.86</td>\n",
       "      <td>0.0</td>\n",
       "      <td>1.0</td>\n",
       "      <td>0.0</td>\n",
       "    </tr>\n",
       "    <tr>\n",
       "      <th>387</th>\n",
       "      <td>0</td>\n",
       "      <td>580</td>\n",
       "      <td>3.36</td>\n",
       "      <td>0.0</td>\n",
       "      <td>1.0</td>\n",
       "      <td>0.0</td>\n",
       "    </tr>\n",
       "    <tr>\n",
       "      <th>388</th>\n",
       "      <td>0</td>\n",
       "      <td>640</td>\n",
       "      <td>3.17</td>\n",
       "      <td>0.0</td>\n",
       "      <td>1.0</td>\n",
       "      <td>0.0</td>\n",
       "    </tr>\n",
       "    <tr>\n",
       "      <th>389</th>\n",
       "      <td>0</td>\n",
       "      <td>640</td>\n",
       "      <td>3.51</td>\n",
       "      <td>0.0</td>\n",
       "      <td>1.0</td>\n",
       "      <td>0.0</td>\n",
       "    </tr>\n",
       "    <tr>\n",
       "      <th>390</th>\n",
       "      <td>1</td>\n",
       "      <td>800</td>\n",
       "      <td>3.05</td>\n",
       "      <td>0.0</td>\n",
       "      <td>1.0</td>\n",
       "      <td>0.0</td>\n",
       "    </tr>\n",
       "    <tr>\n",
       "      <th>391</th>\n",
       "      <td>1</td>\n",
       "      <td>660</td>\n",
       "      <td>3.88</td>\n",
       "      <td>0.0</td>\n",
       "      <td>1.0</td>\n",
       "      <td>0.0</td>\n",
       "    </tr>\n",
       "    <tr>\n",
       "      <th>392</th>\n",
       "      <td>1</td>\n",
       "      <td>600</td>\n",
       "      <td>3.38</td>\n",
       "      <td>0.0</td>\n",
       "      <td>0.0</td>\n",
       "      <td>1.0</td>\n",
       "    </tr>\n",
       "    <tr>\n",
       "      <th>393</th>\n",
       "      <td>1</td>\n",
       "      <td>620</td>\n",
       "      <td>3.75</td>\n",
       "      <td>0.0</td>\n",
       "      <td>1.0</td>\n",
       "      <td>0.0</td>\n",
       "    </tr>\n",
       "    <tr>\n",
       "      <th>394</th>\n",
       "      <td>1</td>\n",
       "      <td>460</td>\n",
       "      <td>3.99</td>\n",
       "      <td>0.0</td>\n",
       "      <td>0.0</td>\n",
       "      <td>1.0</td>\n",
       "    </tr>\n",
       "    <tr>\n",
       "      <th>395</th>\n",
       "      <td>0</td>\n",
       "      <td>620</td>\n",
       "      <td>4.00</td>\n",
       "      <td>0.0</td>\n",
       "      <td>1.0</td>\n",
       "      <td>0.0</td>\n",
       "    </tr>\n",
       "    <tr>\n",
       "      <th>396</th>\n",
       "      <td>0</td>\n",
       "      <td>560</td>\n",
       "      <td>3.04</td>\n",
       "      <td>0.0</td>\n",
       "      <td>0.0</td>\n",
       "      <td>1.0</td>\n",
       "    </tr>\n",
       "    <tr>\n",
       "      <th>397</th>\n",
       "      <td>0</td>\n",
       "      <td>460</td>\n",
       "      <td>2.63</td>\n",
       "      <td>0.0</td>\n",
       "      <td>1.0</td>\n",
       "      <td>0.0</td>\n",
       "    </tr>\n",
       "    <tr>\n",
       "      <th>398</th>\n",
       "      <td>0</td>\n",
       "      <td>700</td>\n",
       "      <td>3.65</td>\n",
       "      <td>0.0</td>\n",
       "      <td>1.0</td>\n",
       "      <td>0.0</td>\n",
       "    </tr>\n",
       "    <tr>\n",
       "      <th>399</th>\n",
       "      <td>0</td>\n",
       "      <td>600</td>\n",
       "      <td>3.89</td>\n",
       "      <td>0.0</td>\n",
       "      <td>0.0</td>\n",
       "      <td>1.0</td>\n",
       "    </tr>\n",
       "  </tbody>\n",
       "</table>\n",
       "<p>400 rows × 6 columns</p>\n",
       "</div>"
      ],
      "text/plain": [
       "     Admit  GRE   GPA  Prestige_1  Prestige_2  Prestige_3\n",
       "0        0  380  3.61         0.0         0.0         1.0\n",
       "1        1  660  3.67         0.0         0.0         1.0\n",
       "2        1  800  4.00         1.0         0.0         0.0\n",
       "3        1  640  3.19         0.0         0.0         0.0\n",
       "4        0  520  2.93         0.0         0.0         0.0\n",
       "5        1  760  3.00         0.0         1.0         0.0\n",
       "6        1  560  2.98         1.0         0.0         0.0\n",
       "7        0  400  3.08         0.0         1.0         0.0\n",
       "8        1  540  3.39         0.0         0.0         1.0\n",
       "9        0  700  3.92         0.0         1.0         0.0\n",
       "10       0  800  4.00         0.0         0.0         0.0\n",
       "11       0  440  3.22         1.0         0.0         0.0\n",
       "12       1  760  4.00         1.0         0.0         0.0\n",
       "13       0  700  3.08         0.0         1.0         0.0\n",
       "14       1  700  4.00         1.0         0.0         0.0\n",
       "15       0  480  3.44         0.0         0.0         1.0\n",
       "16       0  780  3.87         0.0         0.0         0.0\n",
       "17       0  360  2.56         0.0         0.0         1.0\n",
       "18       0  800  3.75         0.0         1.0         0.0\n",
       "19       1  540  3.81         1.0         0.0         0.0\n",
       "20       0  500  3.17         0.0         0.0         1.0\n",
       "21       1  660  3.63         0.0         1.0         0.0\n",
       "22       0  600  2.82         0.0         0.0         0.0\n",
       "23       0  680  3.19         0.0         0.0         0.0\n",
       "24       1  760  3.35         0.0         1.0         0.0\n",
       "25       1  800  3.66         1.0         0.0         0.0\n",
       "26       1  620  3.61         1.0         0.0         0.0\n",
       "27       1  520  3.74         0.0         0.0         0.0\n",
       "28       1  780  3.22         0.0         1.0         0.0\n",
       "29       0  520  3.29         1.0         0.0         0.0\n",
       "..     ...  ...   ...         ...         ...         ...\n",
       "370      1  540  3.77         0.0         1.0         0.0\n",
       "371      1  680  3.76         0.0         0.0         1.0\n",
       "372      1  680  2.42         1.0         0.0         0.0\n",
       "373      1  620  3.37         1.0         0.0         0.0\n",
       "374      0  560  3.78         0.0         1.0         0.0\n",
       "375      0  560  3.49         0.0         0.0         0.0\n",
       "376      0  620  3.63         0.0         1.0         0.0\n",
       "377      1  800  4.00         0.0         1.0         0.0\n",
       "378      0  640  3.12         0.0         0.0         1.0\n",
       "379      0  540  2.70         0.0         1.0         0.0\n",
       "380      0  700  3.65         0.0         1.0         0.0\n",
       "381      1  540  3.49         0.0         1.0         0.0\n",
       "382      0  540  3.51         0.0         1.0         0.0\n",
       "383      0  660  4.00         1.0         0.0         0.0\n",
       "384      1  480  2.62         0.0         1.0         0.0\n",
       "385      0  420  3.02         1.0         0.0         0.0\n",
       "386      1  740  3.86         0.0         1.0         0.0\n",
       "387      0  580  3.36         0.0         1.0         0.0\n",
       "388      0  640  3.17         0.0         1.0         0.0\n",
       "389      0  640  3.51         0.0         1.0         0.0\n",
       "390      1  800  3.05         0.0         1.0         0.0\n",
       "391      1  660  3.88         0.0         1.0         0.0\n",
       "392      1  600  3.38         0.0         0.0         1.0\n",
       "393      1  620  3.75         0.0         1.0         0.0\n",
       "394      1  460  3.99         0.0         0.0         1.0\n",
       "395      0  620  4.00         0.0         1.0         0.0\n",
       "396      0  560  3.04         0.0         0.0         1.0\n",
       "397      0  460  2.63         0.0         1.0         0.0\n",
       "398      0  700  3.65         0.0         1.0         0.0\n",
       "399      0  600  3.89         0.0         0.0         1.0\n",
       "\n",
       "[400 rows x 6 columns]"
      ]
     },
     "execution_count": 7,
     "metadata": {},
     "output_type": "execute_result"
    }
   ],
   "source": [
    "columns1 = ['Admit', 'GRE', 'GPA']\n",
    "data1 = df[columns1]\n",
    "columns2 = ['Prestige_1','Prestige_2','Prestige_3']\n",
    "data2 = dummy_ranks[columns2]\n",
    "data = pd.merge(data1, data2, how=\"outer\", left_index=True, right_index=True)\n",
    "data"
   ]
  },
  {
   "cell_type": "markdown",
   "metadata": {},
   "source": [
    "## Logistic Regression\n",
    "\n",
    "We will use logistic regression to predict the probability that a particular student gets into grad school."
   ]
  },
  {
   "cell_type": "code",
   "execution_count": 8,
   "metadata": {
    "collapsed": false
   },
   "outputs": [
    {
     "name": "stdout",
     "output_type": "stream",
     "text": [
      "Accuracy Score: 0.7075\n"
     ]
    }
   ],
   "source": [
    "# Separate independent and dependent variables\n",
    "X = data.ix[:,1:]\n",
    "y = data['Admit']\n",
    "\n",
    "# Create a logistic regression model\n",
    "initial = LogisticRegression(C = 1000, random_state=0)\n",
    "initial.fit(X,y)\n",
    "\n",
    "# Check model accuracy\n",
    "print(\"Accuracy Score:\", initial.score(X,y))"
   ]
  },
  {
   "cell_type": "code",
   "execution_count": 9,
   "metadata": {
    "collapsed": false
   },
   "outputs": [
    {
     "name": "stdout",
     "output_type": "stream",
     "text": [
      "Actual probability of admission: 0.3175\n"
     ]
    }
   ],
   "source": [
    "# What percentage of students actually got into grad school\n",
    "print(\"Actual probability of admission:\", y.mean())"
   ]
  },
  {
   "cell_type": "markdown",
   "metadata": {},
   "source": [
    "If you were guessing \"no,\" you would be right around 68.25% of the time. Our model is more accurate than just guessing \"no\" by around 2.5%.\n",
    "\n",
    "Our model is significantly better than random guessing. To be more precise, it is about 20.75% better than just guessing 50/50."
   ]
  },
  {
   "cell_type": "code",
   "execution_count": 10,
   "metadata": {
    "collapsed": false
   },
   "outputs": [
    {
     "data": {
      "text/html": [
       "<div>\n",
       "<table border=\"1\" class=\"dataframe\">\n",
       "  <thead>\n",
       "    <tr style=\"text-align: right;\">\n",
       "      <th></th>\n",
       "      <th>Coefficients</th>\n",
       "    </tr>\n",
       "  </thead>\n",
       "  <tbody>\n",
       "    <tr>\n",
       "      <th>GRE</th>\n",
       "      <td>0.002228</td>\n",
       "    </tr>\n",
       "    <tr>\n",
       "      <th>GPA</th>\n",
       "      <td>0.803450</td>\n",
       "    </tr>\n",
       "    <tr>\n",
       "      <th>Prestige_1</th>\n",
       "      <td>1.508653</td>\n",
       "    </tr>\n",
       "    <tr>\n",
       "      <th>Prestige_2</th>\n",
       "      <td>0.842366</td>\n",
       "    </tr>\n",
       "    <tr>\n",
       "      <th>Prestige_3</th>\n",
       "      <td>0.186982</td>\n",
       "    </tr>\n",
       "    <tr>\n",
       "      <th>Intercept</th>\n",
       "      <td>-5.488024</td>\n",
       "    </tr>\n",
       "  </tbody>\n",
       "</table>\n",
       "</div>"
      ],
      "text/plain": [
       "            Coefficients\n",
       "GRE             0.002228\n",
       "GPA             0.803450\n",
       "Prestige_1      1.508653\n",
       "Prestige_2      0.842366\n",
       "Prestige_3      0.186982\n",
       "Intercept      -5.488024"
      ]
     },
     "execution_count": 10,
     "metadata": {},
     "output_type": "execute_result"
    }
   ],
   "source": [
    "# View coefficients\n",
    "column_names = list(X.columns)\n",
    "coefficients = np.transpose(initial.coef_)\n",
    "\n",
    "intercept = initial.intercept_\n",
    "\n",
    "Coeffs = pd.DataFrame(coefficients, column_names, columns=['Coefficients'])\n",
    "Coeffs.append(pd.DataFrame(intercept,['Intercept'], columns=['Coefficients']))"
   ]
  },
  {
   "cell_type": "markdown",
   "metadata": {},
   "source": [
    "The coefficients above are telling of the value of the data in the dataset.\n",
    "\n",
    "Every additional point in a candidate's GRE score improves their chance of admission by 0.002; every unit increase in GPA increases a candidate's chance by 0.803.\n",
    "\n",
    "The prestige coefficients are interpreted as showing that being from a school of rank 1 increases your chance of going to grad school by 1.509 versus a student from a rank 4 school. Differences in chances can be determined by subtracting the prestige 1 coefficient from the prestige coefficient of another rank, e.g., being from a school of rank 1 increases your chance of admission by around 0.6662 (calculated from 1.508653-0.842366) versus a student from a rank 2 school.\n",
    "\n",
    "It is important to note that the information mentioned regarding the log odds is contextual to our model."
   ]
  },
  {
   "cell_type": "markdown",
   "metadata": {},
   "source": [
    "## Modeling Using a Training and a Test Set\n",
    "\n",
    "In the real world, we will likely need to create a machine learning model that can take any set of predictor variables and spit out a probability of admission, which means we won't have the privilege of creating a logit model based on an entirely known set of data.\n",
    "\n",
    "We will now create a logistic regression model based on one training set and one test set, with 70% of the data going into the training set and 30% going into the test set, in order to be able to construct a model and test its accuracy on data that was not used to create it."
   ]
  },
  {
   "cell_type": "code",
   "execution_count": 11,
   "metadata": {
    "collapsed": false
   },
   "outputs": [
    {
     "data": {
      "text/plain": [
       "LogisticRegression(C=1000, class_weight=None, dual=False, fit_intercept=True,\n",
       "          intercept_scaling=1, max_iter=100, multi_class='ovr', n_jobs=1,\n",
       "          penalty='l2', random_state=0, solver='liblinear', tol=0.0001,\n",
       "          verbose=0, warm_start=False)"
      ]
     },
     "execution_count": 11,
     "metadata": {},
     "output_type": "execute_result"
    }
   ],
   "source": [
    "# Split data into training and test sets, using 30% of the data as the test set\n",
    "X_train, X_test, y_train, y_test = train_test_split(X, y, test_size = 0.3, random_state = 0)\n",
    "\n",
    "# Fit the logistic regression with lambda = 10^-3\n",
    "lr = LogisticRegression(C = 1000, random_state=0)\n",
    "lr.fit(X_train, y_train)"
   ]
  },
  {
   "cell_type": "code",
   "execution_count": 12,
   "metadata": {
    "collapsed": false
   },
   "outputs": [
    {
     "name": "stdout",
     "output_type": "stream",
     "text": [
      "[0 0 0 0 0 0 0 0 0 0 0 0 1 0 1 0 1 0 1 0 0 0 0 0 0 0 0 0 1 0 0 0 0 0 0 0 0\n",
      " 0 0 0 0 0 0 0 0 0 0 0 0 0 0 0 0 0 0 0 0 0 1 0 0 0 0 0 0 0 0 0 0 0 0 0 1 0\n",
      " 0 1 0 0 1 0 0 0 0 1 0 0 0 1 0 1 0 0 0 0 0 0 0 0 0 1 0 0 0 0 0 0 0 0 0 0 0\n",
      " 0 0 0 0 0 0 0 0 0]\n"
     ]
    }
   ],
   "source": [
    "# View predictions\n",
    "predicted = lr.predict(X_test)\n",
    "print(predicted)"
   ]
  },
  {
   "cell_type": "code",
   "execution_count": 13,
   "metadata": {
    "collapsed": false
   },
   "outputs": [
    {
     "name": "stdout",
     "output_type": "stream",
     "text": [
      "[[ 0.64022421  0.35977579]\n",
      " [ 0.84820859  0.15179141]\n",
      " [ 0.85828566  0.14171434]\n",
      " [ 0.80578176  0.19421824]\n",
      " [ 0.62378498  0.37621502]\n",
      " [ 0.6623231   0.3376769 ]\n",
      " [ 0.87367562  0.12632438]\n",
      " [ 0.70875513  0.29124487]\n",
      " [ 0.79898042  0.20101958]\n",
      " [ 0.61110878  0.38889122]\n",
      " [ 0.84350899  0.15649101]\n",
      " [ 0.70817595  0.29182405]\n",
      " [ 0.48183441  0.51816559]\n",
      " [ 0.68963801  0.31036199]\n",
      " [ 0.32143748  0.67856252]\n",
      " [ 0.87409495  0.12590505]\n",
      " [ 0.31613189  0.68386811]\n",
      " [ 0.54269812  0.45730188]\n",
      " [ 0.39399235  0.60600765]\n",
      " [ 0.79424349  0.20575651]\n",
      " [ 0.75798685  0.24201315]\n",
      " [ 0.60557388  0.39442612]\n",
      " [ 0.69810048  0.30189952]\n",
      " [ 0.80157962  0.19842038]\n",
      " [ 0.63457754  0.36542246]\n",
      " [ 0.81654046  0.18345954]\n",
      " [ 0.51421484  0.48578516]\n",
      " [ 0.79934062  0.20065938]\n",
      " [ 0.42776407  0.57223593]\n",
      " [ 0.86423849  0.13576151]\n",
      " [ 0.80606385  0.19393615]\n",
      " [ 0.52385954  0.47614046]\n",
      " [ 0.78174081  0.21825919]\n",
      " [ 0.74683181  0.25316819]\n",
      " [ 0.60653022  0.39346978]\n",
      " [ 0.79349638  0.20650362]\n",
      " [ 0.54235013  0.45764987]\n",
      " [ 0.57859262  0.42140738]\n",
      " [ 0.86461877  0.13538123]\n",
      " [ 0.72368838  0.27631162]\n",
      " [ 0.84823443  0.15176557]\n",
      " [ 0.87269996  0.12730004]\n",
      " [ 0.53115036  0.46884964]\n",
      " [ 0.73852758  0.26147242]\n",
      " [ 0.71479427  0.28520573]\n",
      " [ 0.77726612  0.22273388]\n",
      " [ 0.58774443  0.41225557]\n",
      " [ 0.7799243   0.2200757 ]\n",
      " [ 0.60619556  0.39380444]\n",
      " [ 0.87447366  0.12552634]\n",
      " [ 0.70610243  0.29389757]\n",
      " [ 0.83030711  0.16969289]\n",
      " [ 0.61954938  0.38045062]\n",
      " [ 0.84818275  0.15181725]\n",
      " [ 0.53568239  0.46431761]\n",
      " [ 0.81731919  0.18268081]\n",
      " [ 0.80727534  0.19272466]\n",
      " [ 0.72376021  0.27623979]\n",
      " [ 0.41472932  0.58527068]\n",
      " [ 0.80180253  0.19819747]\n",
      " [ 0.80265381  0.19734619]\n",
      " [ 0.57301657  0.42698343]\n",
      " [ 0.87593467  0.12406533]\n",
      " [ 0.59302318  0.40697682]\n",
      " [ 0.72488793  0.27511207]\n",
      " [ 0.72288669  0.27711331]\n",
      " [ 0.81723556  0.18276444]\n",
      " [ 0.65389726  0.34610274]\n",
      " [ 0.74443904  0.25556096]\n",
      " [ 0.71829033  0.28170967]\n",
      " [ 0.72668362  0.27331638]\n",
      " [ 0.65769448  0.34230552]\n",
      " [ 0.41288342  0.58711658]\n",
      " [ 0.8224996   0.1775004 ]\n",
      " [ 0.70234829  0.29765171]\n",
      " [ 0.33588466  0.66411534]\n",
      " [ 0.66411247  0.33588753]\n",
      " [ 0.88663878  0.11336122]\n",
      " [ 0.45506305  0.54493695]\n",
      " [ 0.87828744  0.12171256]\n",
      " [ 0.82118011  0.17881989]\n",
      " [ 0.71385237  0.28614763]\n",
      " [ 0.67689529  0.32310471]\n",
      " [ 0.40137944  0.59862056]\n",
      " [ 0.63990119  0.36009881]\n",
      " [ 0.60126076  0.39873924]\n",
      " [ 0.84769215  0.15230785]\n",
      " [ 0.45248182  0.54751818]\n",
      " [ 0.53697726  0.46302274]\n",
      " [ 0.35531067  0.64468933]\n",
      " [ 0.57081022  0.42918978]\n",
      " [ 0.82278587  0.17721413]\n",
      " [ 0.81077793  0.18922207]\n",
      " [ 0.79392266  0.20607734]\n",
      " [ 0.69117874  0.30882126]\n",
      " [ 0.66496068  0.33503932]\n",
      " [ 0.78194572  0.21805428]\n",
      " [ 0.63657187  0.36342813]\n",
      " [ 0.73957049  0.26042951]\n",
      " [ 0.4703463   0.5296537 ]\n",
      " [ 0.82609009  0.17390991]\n",
      " [ 0.71118595  0.28881405]\n",
      " [ 0.72596504  0.27403496]\n",
      " [ 0.7106509   0.2893491 ]\n",
      " [ 0.86360276  0.13639724]\n",
      " [ 0.85619764  0.14380236]\n",
      " [ 0.67790394  0.32209606]\n",
      " [ 0.7078861   0.2921139 ]\n",
      " [ 0.77906381  0.22093619]\n",
      " [ 0.81157548  0.18842452]\n",
      " [ 0.80929251  0.19070749]\n",
      " [ 0.52610687  0.47389313]\n",
      " [ 0.50235318  0.49764682]\n",
      " [ 0.58458674  0.41541326]\n",
      " [ 0.85877216  0.14122784]\n",
      " [ 0.60256006  0.39743994]\n",
      " [ 0.56171116  0.43828884]\n",
      " [ 0.82159151  0.17840849]\n",
      " [ 0.88300196  0.11699804]\n",
      " [ 0.68873698  0.31126302]]\n"
     ]
    }
   ],
   "source": [
    "# View class probabilities\n",
    "probabilities = lr.predict_proba(X_test)\n",
    "print(probabilities)"
   ]
  },
  {
   "cell_type": "markdown",
   "metadata": {},
   "source": [
    "## Model Evaluation\n",
    "\n",
    "We now evaluate our logistic regression using some common metrics for assessing model quality."
   ]
  },
  {
   "cell_type": "code",
   "execution_count": 14,
   "metadata": {
    "collapsed": false
   },
   "outputs": [
    {
     "name": "stdout",
     "output_type": "stream",
     "text": [
      "Accuracy Score: 0.708333333333\n"
     ]
    }
   ],
   "source": [
    "# Check accuracy\n",
    "print(\"Accuracy Score:\", metrics.accuracy_score(y_test, predicted))"
   ]
  },
  {
   "cell_type": "markdown",
   "metadata": {},
   "source": [
    "The accuracy score here is slightly (around 0.083%) better than the optimized logistic regression without the training/test split.\n",
    "\n",
    "Using a well-chosen (completely random) subset of the data, we were able to create a model whose accuracy actually exceeded that of the model created using all of the data."
   ]
  },
  {
   "cell_type": "markdown",
   "metadata": {},
   "source": [
    "### Performance Visualization\n",
    "\n",
    "We use a confusion matrix, classification report, and ROC curve to get a better view of the performance of our model."
   ]
  },
  {
   "cell_type": "code",
   "execution_count": 15,
   "metadata": {
    "collapsed": false,
    "scrolled": true
   },
   "outputs": [
    {
     "name": "stdout",
     "output_type": "stream",
     "text": [
      "Confusion Matrix:\n",
      " [[77  5]\n",
      " [30  8]]\n",
      "\n",
      "Classification Report:\n",
      "              precision    recall  f1-score   support\n",
      "\n",
      "          0       0.72      0.94      0.81        82\n",
      "          1       0.62      0.21      0.31        38\n",
      "\n",
      "avg / total       0.69      0.71      0.66       120\n",
      "\n"
     ]
    }
   ],
   "source": [
    "# Print confusion matrix and classification report\n",
    "print(\"Confusion Matrix:\\n\",metrics.confusion_matrix(y_test, predicted))\n",
    "print(\"\\nClassification Report:\\n\",metrics.classification_report(y_test,predicted))"
   ]
  },
  {
   "cell_type": "markdown",
   "metadata": {},
   "source": [
    "The confusion matrix shows that out of 82 non-admits, our model got 77 of those right, while 5 of those were false positives. This very good hit rate for 0's is  reflected in the high recall of 0.94 for 0's in the classification report. However, the performance of the model is not as good at predicting admits, with only 8 out of 38 admissions correctly being predicted by the model. Again, this is reflected in the low recall 0.21 for 1's.\n",
    "\n",
    "Looking at precision, 72% of 0's are indeed 0's, and 62% of identified 1's are actual 1's.\n",
    "\n",
    "In total, 85 out of 120 results were correctly predicted by the model."
   ]
  },
  {
   "cell_type": "markdown",
   "metadata": {},
   "source": [
    "#### Plotting the ROC Curve\n",
    "\n",
    "In order to more ably visualize the effectiveness of our model and support our existing analysis, we use an ROC curve. While scikit-learn already selects a certain balance (0.5 by default for binary classifiers; can be adjusted via the class_weight argument in LogisticRegression) of performance metrics (precision, recall, etc.), it is still good to get a view of the performance tradeoffs inherent in our model, as well as to gain insight for potential model tuning in the future."
   ]
  },
  {
   "cell_type": "code",
   "execution_count": 16,
   "metadata": {
    "collapsed": false
   },
   "outputs": [
    {
     "data": {
      "image/png": "[encoded data removed]",
      "text/plain": [
       "<matplotlib.figure.Figure at 0x18237a9a3c8>"
      ]
     },
     "metadata": {},
     "output_type": "display_data"
    },
    {
     "name": "stdout",
     "output_type": "stream",
     "text": [
      "Area Under the Curve: 0.678433889602\n"
     ]
    }
   ],
   "source": [
    "fpr, tpr, thresholds = metrics.roc_curve(y_test, probabilities[:,1])\n",
    "\n",
    "results = pd.DataFrame({'False Positive Rate': fpr, 'True Positive Rate': tpr})\n",
    "\n",
    "plt.plot(fpr,tpr, color='g', label=\"Model\")\n",
    "plt.plot([0, 1], [0, 1], color='gray', linestyle='--', label=\"Baseline (Random Guessing)\")\n",
    "plt.xlabel('False Positive Rate')\n",
    "plt.ylabel('True Positive Rate')\n",
    "plt.title('ROC Curve')\n",
    "plt.legend()\n",
    "plt.show()\n",
    "\n",
    "print(\"Area Under the Curve:\", metrics.roc_auc_score(y_test, probabilities[:,1]))"
   ]
  },
  {
   "cell_type": "markdown",
   "metadata": {},
   "source": [
    "As the plot above shows, while our logistic regression model is not really that good -- the area under the curve is calculated to be 0.6784 -- in accordance with the results earlier, it still does better than random guessing.\n",
    "\n",
    "Also note that, in alignment with the 0.5 threshhold used by scikit-learn by default, our true positive rate (recall) of 0.71 matches up with the true positive rate in the graph when the false positive rate is 0.5."
   ]
  },
  {
   "cell_type": "markdown",
   "metadata": {},
   "source": [
    "### Checking Model Prediction Performance\n",
    "\n",
    "We assess the quality our modeling above -- specifically, how effectively it will likely hold up when exponsed to unseen data -- by using cross-validation. "
   ]
  },
  {
   "cell_type": "code",
   "execution_count": 17,
   "metadata": {
    "collapsed": false
   },
   "outputs": [
    {
     "name": "stdout",
     "output_type": "stream",
     "text": [
      "Score per fold: [ 0.69135802  0.75308642  0.7         0.6835443   0.6835443 ]\n",
      "Mean score: 0.702306610408\n",
      "Standard deviation: 0.0261068164148\n"
     ]
    }
   ],
   "source": [
    "fivefold = cross_val_score(lr, X, y, scoring='accuracy', cv=5)\n",
    "print(\"Score per fold:\", fivefold)\n",
    "print(\"Mean score:\", fivefold.mean())\n",
    "print(\"Standard deviation:\", fivefold.std())"
   ]
  },
  {
   "cell_type": "markdown",
   "metadata": {},
   "source": [
    "Using five-fold cross-validation on our current model results in a similar accuracy score as the one previously derived, which shows that the model we arrived at earlier is not biased toward the training set and will likely generalize well to new data."
   ]
  },
  {
   "cell_type": "markdown",
   "metadata": {},
   "source": [
    "## Improving the Model\n",
    "\n",
    "We will attempt to improve our model by using a variety of techniques, including feature scaling, class weighting, and tuning our hyperparameter C. Our current model will be treated as a baseline."
   ]
  },
  {
   "cell_type": "markdown",
   "metadata": {},
   "source": [
    "### Feature Scaling\n",
    "\n",
    "One aspect of our data is that GRE and GPA scores vary significantly in scale. Scaling these features may improve the accuracy of our machine learning model."
   ]
  },
  {
   "cell_type": "code",
   "execution_count": 18,
   "metadata": {
    "collapsed": false
   },
   "outputs": [
    {
     "data": {
      "text/html": [
       "<div>\n",
       "<table border=\"1\" class=\"dataframe\">\n",
       "  <thead>\n",
       "    <tr style=\"text-align: right;\">\n",
       "      <th></th>\n",
       "      <th>GRE</th>\n",
       "      <th>GPA</th>\n",
       "      <th>Prestige_1</th>\n",
       "      <th>Prestige_2</th>\n",
       "      <th>Prestige_3</th>\n",
       "    </tr>\n",
       "  </thead>\n",
       "  <tbody>\n",
       "    <tr>\n",
       "      <th>0</th>\n",
       "      <td>-1.800263</td>\n",
       "      <td>0.579072</td>\n",
       "      <td>0.0</td>\n",
       "      <td>0.0</td>\n",
       "      <td>1.0</td>\n",
       "    </tr>\n",
       "    <tr>\n",
       "      <th>1</th>\n",
       "      <td>0.626668</td>\n",
       "      <td>0.736929</td>\n",
       "      <td>0.0</td>\n",
       "      <td>0.0</td>\n",
       "      <td>1.0</td>\n",
       "    </tr>\n",
       "    <tr>\n",
       "      <th>2</th>\n",
       "      <td>1.840134</td>\n",
       "      <td>1.605143</td>\n",
       "      <td>1.0</td>\n",
       "      <td>0.0</td>\n",
       "      <td>0.0</td>\n",
       "    </tr>\n",
       "    <tr>\n",
       "      <th>3</th>\n",
       "      <td>0.453316</td>\n",
       "      <td>-0.525927</td>\n",
       "      <td>0.0</td>\n",
       "      <td>0.0</td>\n",
       "      <td>0.0</td>\n",
       "    </tr>\n",
       "    <tr>\n",
       "      <th>4</th>\n",
       "      <td>-0.586797</td>\n",
       "      <td>-1.209974</td>\n",
       "      <td>0.0</td>\n",
       "      <td>0.0</td>\n",
       "      <td>0.0</td>\n",
       "    </tr>\n",
       "  </tbody>\n",
       "</table>\n",
       "</div>"
      ],
      "text/plain": [
       "        GRE       GPA  Prestige_1  Prestige_2  Prestige_3\n",
       "0 -1.800263  0.579072         0.0         0.0         1.0\n",
       "1  0.626668  0.736929         0.0         0.0         1.0\n",
       "2  1.840134  1.605143         1.0         0.0         0.0\n",
       "3  0.453316 -0.525927         0.0         0.0         0.0\n",
       "4 -0.586797 -1.209974         0.0         0.0         0.0"
      ]
     },
     "execution_count": 18,
     "metadata": {},
     "output_type": "execute_result"
    }
   ],
   "source": [
    "from sklearn import preprocessing\n",
    "\n",
    "# Isolate columns to scale\n",
    "toscale = X.loc[:,'GRE':'GPA']\n",
    "scaleddata = preprocessing.scale(toscale)\n",
    "scaleddata = pd.DataFrame(scaleddata, columns=['GRE','GPA'])\n",
    "\n",
    "# Join scaled data with categorical rank columns\n",
    "scaledX = scaleddata.join(data2)\n",
    "scaledX.head()"
   ]
  },
  {
   "cell_type": "code",
   "execution_count": 19,
   "metadata": {
    "collapsed": false
   },
   "outputs": [
    {
     "name": "stdout",
     "output_type": "stream",
     "text": [
      "Score per fold: [ 0.7037037   0.74074074  0.7         0.6835443   0.6835443 ]\n",
      "Mean score: 0.702306610408\n",
      "Standard deviation: 0.0209212953441\n"
     ]
    }
   ],
   "source": [
    "improve1 = cross_val_score(lr, scaledX, y, scoring='accuracy', cv=5)\n",
    "print(\"Score per fold:\", improve1)\n",
    "print(\"Mean score:\", improve1.mean())\n",
    "print(\"Standard deviation:\", improve1.std())"
   ]
  },
  {
   "cell_type": "markdown",
   "metadata": {},
   "source": [
    "The accuracy of our model does not change, but the standard deviation improves a little. This means that our improved model should provide slightly better, or at the very least, more consistent performance."
   ]
  },
  {
   "cell_type": "markdown",
   "metadata": {},
   "source": [
    "### Correcting for Class Imbalance\n",
    "\n",
    "Based on our confusion matrix, the model appeared to be quick to assign values of \"1\" to actual 0's. By modifying the weighting of the classes ever so slightly, from the default weight of 1 each to adding slightly more weight to 0's, false positives should be penalized more, and we give the model a little more breathing room to make mistakes in favor of providing 1's (while the data most certainly shows that it's more likely to get a 0 than a 1, our model still appears to predict too much in favor of 0)."
   ]
  },
  {
   "cell_type": "code",
   "execution_count": 20,
   "metadata": {
    "collapsed": false
   },
   "outputs": [
    {
     "name": "stdout",
     "output_type": "stream",
     "text": [
      "Score per fold: [ 0.7037037   0.75308642  0.7         0.6835443   0.70886076]\n",
      "Mean score: 0.70983903735\n",
      "Standard deviation: 0.0232256543495\n"
     ]
    }
   ],
   "source": [
    "lrweighted = LogisticRegression(C = 1000, random_state=0, class_weight={0:0.505,1:0.495})\n",
    "\n",
    "improve2 = cross_val_score(lrweighted, scaledX, y, scoring='accuracy', cv=5)\n",
    "print(\"Score per fold:\", improve2)\n",
    "print(\"Mean score:\", improve2.mean())\n",
    "print(\"Standard deviation:\", improve2.std())"
   ]
  },
  {
   "cell_type": "markdown",
   "metadata": {},
   "source": [
    "Our mean score shows a slight improvement. Our standard deviation is slightly higher than that of the previous, feature-scaled model, but it is still lower than our original model."
   ]
  },
  {
   "cell_type": "markdown",
   "metadata": {},
   "source": [
    "### Hyperparameter Tuning\n",
    "\n",
    "We will check if results change based on the $\\lambda$ parameter used in regularization. Note that in scikit-learn's logistic regression, $C = \\frac{1}{\\lambda}$."
   ]
  },
  {
   "cell_type": "code",
   "execution_count": 21,
   "metadata": {
    "collapsed": false
   },
   "outputs": [
    {
     "name": "stdout",
     "output_type": "stream",
     "text": [
      "For C = 1e-05:\n",
      "  Score per fold: [ 0.69135802  0.7037037   0.7         0.67088608  0.67088608]\n",
      "    Mean score: 0.687366776059\n",
      "    Standard deviation: 0.0140403032009\n",
      "For C = 0.0001:\n",
      "  Score per fold: [ 0.69135802  0.7037037   0.7         0.67088608  0.67088608]\n",
      "    Mean score: 0.687366776059\n",
      "    Standard deviation: 0.0140403032009\n",
      "For C = 0.001:\n",
      "  Score per fold: [ 0.69135802  0.7037037   0.7         0.67088608  0.67088608]\n",
      "    Mean score: 0.687366776059\n",
      "    Standard deviation: 0.0140403032009\n",
      "For C = 0.01:\n",
      "  Score per fold: [ 0.69135802  0.7037037   0.7         0.67088608  0.67088608]\n",
      "    Mean score: 0.687366776059\n",
      "    Standard deviation: 0.0140403032009\n",
      "For C = 0.1:\n",
      "  Score per fold: [ 0.69135802  0.7037037   0.6875      0.69620253  0.67088608]\n",
      "    Mean score: 0.689930067198\n",
      "    Standard deviation: 0.0109514817692\n",
      "For C = 1:\n",
      "  Score per fold: [ 0.72839506  0.72839506  0.6875      0.6835443   0.6835443 ]\n",
      "    Mean score: 0.70227574621\n",
      "    Standard deviation: 0.0213751904416\n",
      "For C = 10:\n",
      "  Score per fold: [ 0.7037037   0.72839506  0.7         0.6835443   0.70886076]\n",
      "    Mean score: 0.704900765745\n",
      "    Standard deviation: 0.0144859409331\n",
      "For C = 100:\n",
      "  Score per fold: [ 0.7037037   0.75308642  0.7         0.6835443   0.70886076]\n",
      "    Mean score: 0.70983903735\n",
      "    Standard deviation: 0.0232256543495\n",
      "For C = 10000:\n",
      "  Score per fold: [ 0.7037037   0.75308642  0.7         0.6835443   0.70886076]\n",
      "    Mean score: 0.70983903735\n",
      "    Standard deviation: 0.0232256543495\n",
      "For C = 100000:\n",
      "  Score per fold: [ 0.7037037   0.75308642  0.7         0.6835443   0.70886076]\n",
      "    Mean score: 0.70983903735\n",
      "    Standard deviation: 0.0232256543495\n"
     ]
    }
   ],
   "source": [
    "tens = [10**i for i in range(-5,6)]\n",
    "\n",
    "for i in tens:\n",
    "    if i == 1000:\n",
    "        continue\n",
    "    testlr = LogisticRegression(C = i, random_state=0, class_weight={0:0.505,1:0.495})\n",
    "    testcrossval = cross_val_score(testlr, scaledX, y, scoring='accuracy', cv=5)\n",
    "    print('For C = {}:'.format(i))\n",
    "    print('  Score per fold:', testcrossval)\n",
    "    print('    Mean score:', testcrossval.mean())\n",
    "    print('    Standard deviation:', testcrossval.std())"
   ]
  },
  {
   "cell_type": "markdown",
   "metadata": {},
   "source": [
    "Given that $C = \\frac{1}{\\lambda}$, it makes sense that, after a certain value of $C$ (in this case, 100), the model no longer improves because the penalty to the logistic regression objective function is minimal. As such, we will not need to change our current $C$ value."
   ]
  },
  {
   "cell_type": "markdown",
   "metadata": {},
   "source": [
    "## Testing the Revised Model\n",
    "\n",
    "We now check our new model using a training and test set."
   ]
  },
  {
   "cell_type": "code",
   "execution_count": 22,
   "metadata": {
    "collapsed": false
   },
   "outputs": [
    {
     "data": {
      "text/plain": [
       "LogisticRegression(C=1000, class_weight={0: 0.5, 1: 0.5}, dual=False,\n",
       "          fit_intercept=True, intercept_scaling=1, max_iter=100,\n",
       "          multi_class='ovr', n_jobs=1, penalty='l2', random_state=0,\n",
       "          solver='liblinear', tol=0.0001, verbose=0, warm_start=False)"
      ]
     },
     "execution_count": 22,
     "metadata": {},
     "output_type": "execute_result"
    }
   ],
   "source": [
    "# Create new train and test sets and fit our revised model to it\n",
    "X_train2, X_test2, y_train2, y_test2 = train_test_split(scaledX, y, test_size = 0.3, random_state = 0)\n",
    "\n",
    "newlr = LogisticRegression(C = 1000, random_state=0, class_weight={0:0.50,1:0.50})\n",
    "newlr.fit(X_train2, y_train2)"
   ]
  },
  {
   "cell_type": "code",
   "execution_count": 23,
   "metadata": {
    "collapsed": false
   },
   "outputs": [
    {
     "name": "stdout",
     "output_type": "stream",
     "text": [
      "Accuracy Score: 0.725 \n",
      "\n",
      "Confusion Matrix:\n",
      " [[77  5]\n",
      " [28 10]]\n",
      "\n",
      "Classification Report:\n",
      "              precision    recall  f1-score   support\n",
      "\n",
      "          0       0.73      0.94      0.82        82\n",
      "          1       0.67      0.26      0.38        38\n",
      "\n",
      "avg / total       0.71      0.72      0.68       120\n",
      "\n"
     ]
    }
   ],
   "source": [
    "# Check for metrics on the new predicted probabilities\n",
    "newpredictions = newlr.predict(X_test2)\n",
    "newprobabilities = newlr.predict_proba(X_test2)\n",
    "\n",
    "print(\"Accuracy Score:\", newlr.score(X_test2, y_test2),\"\\n\")\n",
    "print(\"Confusion Matrix:\\n\",metrics.confusion_matrix(y_test2, newpredictions))\n",
    "print(\"\\nClassification Report:\\n\",metrics.classification_report(y_test2, newpredictions))"
   ]
  },
  {
   "cell_type": "markdown",
   "metadata": {},
   "source": [
    "In alignment with our expectations based on our model tuning, all metrics have shown an improvement over our original model.\n",
    "\n",
    "In comparison with our original model, the predictions for non-admits are the same, and we now have two more correctly classified admits than in the previous model, which is obviously an improvement."
   ]
  },
  {
   "cell_type": "code",
   "execution_count": 24,
   "metadata": {
    "collapsed": false
   },
   "outputs": [
    {
     "data": {
      "image/png": "[encoded data removed]",
      "text/plain": [
       "<matplotlib.figure.Figure at 0x18237a7f278>"
      ]
     },
     "metadata": {},
     "output_type": "display_data"
    },
    {
     "name": "stdout",
     "output_type": "stream",
     "text": [
      "Area Under the Curve: 0.682284980745\n"
     ]
    }
   ],
   "source": [
    "# Plot a new ROC curve for the revised model\n",
    "fpr2, tpr2, thresholds2 = metrics.roc_curve(y_test2, newprobabilities[:,1])\n",
    "\n",
    "results2 = pd.DataFrame({'False Positive Rate': fpr2, 'True Positive Rate': tpr2})\n",
    "\n",
    "plt.plot(fpr,tpr,color='darkgray', label=\"Original Model\")\n",
    "plt.plot(fpr2,tpr2, color='g', label=\"Revised Model\")\n",
    "plt.plot([0, 1], [0, 1], color='gray', linestyle='--', label=\"Baseline (Random Guessing)\")\n",
    "plt.xlabel('False Positive Rate')\n",
    "plt.ylabel('True Positive Rate')\n",
    "plt.title('ROC Curve for Revised Model')\n",
    "plt.legend()\n",
    "plt.show()\n",
    "\n",
    "print(\"Area Under the Curve:\", metrics.roc_auc_score(y_test2, newprobabilities[:,1]))"
   ]
  },
  {
   "cell_type": "markdown",
   "metadata": {},
   "source": [
    "Our ROC curve differs slightly from the original model's, and it is, generally speaking, an improvement. Our area under the curve is also better than the original model's."
   ]
  },
  {
   "cell_type": "markdown",
   "metadata": {},
   "source": [
    "## Conclusion\n",
    "\n",
    "We were able to develop a learned logistic regression model that can, with 72.5% accuracy, predict the admission of a candidate into graduate school based on their GRE, GPA, and the rank of their school."
   ]
  }
 ],
 "metadata": {
  "anaconda-cloud": {},
  "kernelspec": {
   "display_name": "Python [conda root]",
   "language": "python",
   "name": "conda-root-py"
  },
  "language_info": {
   "codemirror_mode": {
    "name": "ipython",
    "version": 3
   },
   "file_extension": ".py",
   "mimetype": "text/x-python",
   "name": "python",
   "nbconvert_exporter": "python",
   "pygments_lexer": "ipython3",
   "version": "3.5.2"
  }
 },
 "nbformat": 4,
 "nbformat_minor": 1
}
