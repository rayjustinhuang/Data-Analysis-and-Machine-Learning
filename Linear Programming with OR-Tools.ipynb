{
 "cells": [
  {
   "cell_type": "markdown",
   "metadata": {},
   "source": [
    "# Linear Programming with OR-Tools\n",
    "\n",
    "In this notebook, we do some basic LP solving with Google's OR-Tools. Problems used will be examples in Hamdy Taha's Operations Research: An Introduction, 9th Edition, which I have in paperback."
   ]
  },
  {
   "cell_type": "code",
   "execution_count": 13,
   "metadata": {
    "collapsed": true
   },
   "outputs": [],
   "source": [
    "from ortools.linear_solver import pywraplp"
   ]
  },
  {
   "cell_type": "markdown",
   "metadata": {},
   "source": [
    "## Reddy Mikks model\n",
    "\n",
    "Given the following variables:\n",
    "\n",
    "$\\begin{aligned}\n",
    "x_1 = \\textrm{Tons of exterior paint produced daily} \\newline\n",
    "x_2 = \\textrm{Tons of interior paint produced daily}\n",
    "\\end{aligned}$\n",
    "\n",
    "and knowing that we want to maximize the profit, where \\$5000 is the profit from exterior paint and \\$4000 is the profit from a ton of interior paint, the Reddy Mikks model is:\n",
    "\n",
    "$$\\textrm{Maximize  } z = 5x_1 + 4x_2$$\n",
    "subject to\n",
    "$$6x_1 + 4x_2 \\le 24$$\n",
    "$$x_1 + 2x_2 \\le 6$$\n",
    "$$-x_1 + x_2 \\le 1$$\n",
    "$$x_2 \\le 2$$\n",
    "$$x_1, x_2 \\ge 0$$"
   ]
  },
  {
   "cell_type": "code",
   "execution_count": 14,
   "metadata": {},
   "outputs": [
    {
     "name": "stdout",
     "output_type": "stream",
     "text": [
      "The company should produce 3.0 tons of exterior paint\n",
      "The company should produce 1.5 tons of interior paint\n",
      "The optimal profit is 21.0 thousand USD\n"
     ]
    }
   ],
   "source": [
    "reddymikks = pywraplp.Solver('Reddy_Mikks', pywraplp.Solver.GLOP_LINEAR_PROGRAMMING)\n",
    "\n",
    "x1 = reddymikks.NumVar(0, reddymikks.infinity(), 'x1')\n",
    "x2 = reddymikks.NumVar(0, reddymikks.infinity(), 'x2')\n",
    "\n",
    "reddymikks.Add(6*x1 + 4*x2 <= 24)\n",
    "reddymikks.Add(x1 + 2*x2 <= 6)\n",
    "reddymikks.Add(-x1 + x2 <= 1)\n",
    "reddymikks.Add(x2 <= 2)\n",
    "\n",
    "profit = reddymikks.Objective()\n",
    "profit.SetCoefficient(x1, 5)\n",
    "profit.SetCoefficient(x2, 4)\n",
    "profit.SetMaximization()\n",
    "\n",
    "status = reddymikks.Solve()\n",
    "\n",
    "if status not in [reddymikks.OPTIMAL, reddymikks.FEASIBLE]:\n",
    "    raise Exception('No feasible solution found')\n",
    "    \n",
    "print(\"The company should produce\",round(x1.solution_value(),2),\"tons of exterior paint\")\n",
    "print(\"The company should produce\",round(x2.solution_value(),2),\"tons of interior paint\")\n",
    "print(\"The optimal profit is\", profit.Value(), 'thousand USD')"
   ]
  },
  {
   "cell_type": "markdown",
   "metadata": {},
   "source": [
    "## More simple problems"
   ]
  },
  {
   "cell_type": "markdown",
   "metadata": {},
   "source": [
    "A company that operates 10 hours a day manufactures two products on three sequential processes. The following data characterizes the problem:"
   ]
  },
  {
   "cell_type": "code",
   "execution_count": 11,
   "metadata": {},
   "outputs": [
    {
     "data": {
      "text/html": [
       "<div>\n",
       "<style>\n",
       "    .dataframe thead tr:only-child th {\n",
       "        text-align: right;\n",
       "    }\n",
       "\n",
       "    .dataframe thead th {\n",
       "        text-align: left;\n",
       "    }\n",
       "\n",
       "    .dataframe tbody tr th {\n",
       "        vertical-align: top;\n",
       "    }\n",
       "</style>\n",
       "<table border=\"1\" class=\"dataframe\">\n",
       "  <thead>\n",
       "    <tr style=\"text-align: right;\">\n",
       "      <th></th>\n",
       "      <th>Process 1</th>\n",
       "      <th>Process 2</th>\n",
       "      <th>Process 3</th>\n",
       "      <th>Unit profit</th>\n",
       "    </tr>\n",
       "  </thead>\n",
       "  <tbody>\n",
       "    <tr>\n",
       "      <th>Product 1</th>\n",
       "      <td>10</td>\n",
       "      <td>6</td>\n",
       "      <td>8</td>\n",
       "      <td>20</td>\n",
       "    </tr>\n",
       "    <tr>\n",
       "      <th>Product 2</th>\n",
       "      <td>5</td>\n",
       "      <td>20</td>\n",
       "      <td>10</td>\n",
       "      <td>30</td>\n",
       "    </tr>\n",
       "  </tbody>\n",
       "</table>\n",
       "</div>"
      ],
      "text/plain": [
       "           Process 1  Process 2  Process 3  Unit profit\n",
       "Product 1         10          6          8           20\n",
       "Product 2          5         20         10           30"
      ]
     },
     "execution_count": 11,
     "metadata": {},
     "output_type": "execute_result"
    }
   ],
   "source": [
    "import pandas as pd\n",
    "\n",
    "problemdata = pd.DataFrame({'Process 1': [10, 5], 'Process 2':[6, 20], 'Process 3':[8, 10], 'Unit profit':[20, 30]})\n",
    "problemdata.index = ['Product 1', 'Product 2']\n",
    "\n",
    "problemdata"
   ]
  },
  {
   "cell_type": "markdown",
   "metadata": {},
   "source": [
    "Where there are 10 hours a day dedicated to production. Process times are given in minutes per unit while profit is given in USD.\n",
    "\n",
    "The optimal mix of the two products would be characterized by the following model:\n",
    "\n",
    "$\\begin{aligned}\n",
    "x_1 = \\textrm{Units of product 1} \\newline\n",
    "x_2 = \\textrm{Units of product 2}\n",
    "\\end{aligned}$\n",
    "\n",
    "$$\\textrm{Maximize  } z = 20x_1 + 30x_2$$\n",
    "\n",
    "subject to\n",
    "\n",
    "$$\\begin{array}{rcl}\n",
    "10x_1 + 5x_2 \\le 600 \\newline\n",
    "6x_1 + 20x_2 \\le 600 \\newline\n",
    "8x_1 + 10x_2 \\le 600 \\newline\n",
    "x_1, x_2 \\ge 0\n",
    "\\end{array}$$\n",
    "\n",
    "(we will assume that continuous solution values are acceptable for this problem)"
   ]
  },
  {
   "cell_type": "code",
   "execution_count": 30,
   "metadata": {},
   "outputs": [
    {
     "name": "stdout",
     "output_type": "stream",
     "text": [
      "The company should produce 52.94 units of product 1\n",
      "The company should produce 14.12 units of product 2\n",
      "The optimal profit is 1482.35 USD\n"
     ]
    }
   ],
   "source": [
    "simpleprod = pywraplp.Solver('Simple_Production', pywraplp.Solver.GLOP_LINEAR_PROGRAMMING)\n",
    "\n",
    "x1 = simpleprod.NumVar(0, simpleprod.infinity(), 'x1')\n",
    "x2 = simpleprod.NumVar(0, simpleprod.infinity(), 'x2')\n",
    "\n",
    "for i in problemdata.columns[:-1]:\n",
    "    simpleprod.Add(problemdata.loc[problemdata.index[0], i]*x1 + problemdata.loc[problemdata.index[1], i]*x2 <= 600)\n",
    "\n",
    "profit = simpleprod.Objective()\n",
    "profit.SetCoefficient(x1, 20)\n",
    "profit.SetCoefficient(x2, 30)\n",
    "profit.SetMaximization()\n",
    "\n",
    "status = simpleprod.Solve()\n",
    "\n",
    "if status not in [simpleprod.OPTIMAL, simpleprod.FEASIBLE]:\n",
    "    raise Exception('No feasible solution found')\n",
    "    \n",
    "print(\"The company should produce\",round(x1.solution_value(),2),\"units of product 1\")\n",
    "print(\"The company should produce\",round(x2.solution_value(),2),\"units of product 2\")\n",
    "print(\"The optimal profit is\", round(profit.Value(),2), 'USD')"
   ]
  }
 ],
 "metadata": {
  "kernelspec": {
   "display_name": "Python 3",
   "language": "python",
   "name": "python3"
  },
  "language_info": {
   "codemirror_mode": {
    "name": "ipython",
    "version": 3
   },
   "file_extension": ".py",
   "mimetype": "text/x-python",
   "name": "python",
   "nbconvert_exporter": "python",
   "pygments_lexer": "ipython3",
   "version": "3.6.2"
  }
 },
 "nbformat": 4,
 "nbformat_minor": 2
}
