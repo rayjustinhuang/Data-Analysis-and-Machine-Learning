{
 "cells": [
  {
   "cell_type": "markdown",
   "metadata": {},
   "source": [
    "# Linear Programming with OR-Tools\n",
    "\n",
    "In this notebook, we do some basic LP solving with Google's OR-Tools. Problems used will be examples in Hamdy Taha's Operations Research: An Introduction, 9th Edition, which I have in paperback."
   ]
  },
  {
   "cell_type": "code",
   "execution_count": 6,
   "metadata": {},
   "outputs": [],
   "source": [
    "from ortools.linear_solver import pywraplp"
   ]
  },
  {
   "cell_type": "markdown",
   "metadata": {},
   "source": [
    "## Reddy Mikks model\n",
    "\n",
    "Given the following variables:\n",
    "\n",
    "$\\begin{aligned}\n",
    "x_1 = \\textrm{Tons of exterior paint produced daily} \\newline\n",
    "x_2 = \\textrm{Tons of interior paint produced daily}\n",
    "\\end{aligned}$\n",
    "\n",
    "and knowing that we want to maximize the profit, where \\$5000 is the profit from exterior paint and \\$4000 is the profit from a ton of interior paint, the Reddy Mikks model is:\n",
    "\n",
    "$$\\textrm{Maximize  } z = 5x_1 + 4x_2$$\n",
    "subject to\n",
    "$$6x_1 + 4x_2 \\le 24$$\n",
    "$$x_1 + 2x_2 \\le 6$$\n",
    "$$-x_1 + x_2 \\le 1$$\n",
    "$$x_2 \\le 2$$\n",
    "$$x_1, x_2 \\ge 0$$"
   ]
  },
  {
   "cell_type": "code",
   "execution_count": 17,
   "metadata": {},
   "outputs": [
    {
     "name": "stdout",
     "output_type": "stream",
     "text": [
      "The company should produce 3.0 tons of exterior paint\n",
      "The company should produce 1.5 tons of interior paint\n",
      "The optimal profit is 21.0 thousand USD\n"
     ]
    }
   ],
   "source": [
    "reddymikks = pywraplp.Solver('Reddy_Mikks', pywraplp.Solver.GLOP_LINEAR_PROGRAMMING)\n",
    "\n",
    "x1 = reddymikks.NumVar(0, reddymikks.infinity(), 'x1')\n",
    "x2 = reddymikks.NumVar(0, reddymikks.infinity(), 'x2')\n",
    "\n",
    "reddymikks.Add(6*x1 + 4*x2 <= 24)\n",
    "reddymikks.Add(x1 + 2*x2 <= 6)\n",
    "reddymikks.Add(-x1 + x2 <= 1)\n",
    "reddymikks.Add(x2 <= 2)\n",
    "\n",
    "profit = reddymikks.Objective()\n",
    "profit.SetCoefficient(x1, 5)\n",
    "profit.SetCoefficient(x2, 4)\n",
    "profit.SetMaximization()\n",
    "\n",
    "status = reddymikks.Solve()\n",
    "\n",
    "if status not in [reddymikks.OPTIMAL, reddymikks.FEASIBLE]:\n",
    "    raise Exception('No feasible solution found')\n",
    "    \n",
    "print(\"The company should produce\",round(x1.solution_value(),2),\"tons of exterior paint\")\n",
    "print(\"The company should produce\",round(x2.solution_value(),2),\"tons of interior paint\")\n",
    "print(\"The optimal profit is\", profit.Value(), 'thousand USD')"
   ]
  }
 ],
 "metadata": {
  "kernelspec": {
   "display_name": "Python 3",
   "language": "python",
   "name": "python3"
  },
  "language_info": {
   "codemirror_mode": {
    "name": "ipython",
    "version": 3
   },
   "file_extension": ".py",
   "mimetype": "text/x-python",
   "name": "python",
   "nbconvert_exporter": "python",
   "pygments_lexer": "ipython3",
   "version": "3.6.2"
  }
 },
 "nbformat": 4,
 "nbformat_minor": 2
}
