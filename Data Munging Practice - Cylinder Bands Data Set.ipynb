{
 "cells": [
  {
   "cell_type": "markdown",
   "metadata": {},
   "source": [
    "# Data Munging Practice\n",
    "\n",
    "Practicing data wrangling and cleaning using various Python libraries to improve my data science practices and create some reusable code I can use for future projects."
   ]
  },
  {
   "cell_type": "code",
   "execution_count": 1,
   "metadata": {
    "collapsed": true
   },
   "outputs": [],
   "source": [
    "import numpy as np\n",
    "import pandas as pd\n",
    "\n",
    "import matplotlib.pyplot as plt\n",
    "import seaborn as sns\n",
    "%matplotlib inline"
   ]
  },
  {
   "cell_type": "markdown",
   "metadata": {},
   "source": [
    "## Automating Data Extraction"
   ]
  },
  {
   "cell_type": "code",
   "execution_count": 22,
   "metadata": {
    "collapsed": true
   },
   "outputs": [],
   "source": [
    "import os\n",
    "import urllib\n",
    "\n",
    "root_url = \"https://archive.ics.uci.edu/ml/machine-learning-databases/\"\n",
    "full_url = root_url + \"cylinder-bands/bands.data\"\n",
    "dataset_location = os.path.join(\"datasets\",\"cylinder-bands\")\n",
    "filename = 'cylinder-bands.csv'\n",
    "\n",
    "def fetch_data(filename, full_url=full_url, dataset_location=dataset_location):\n",
    "    if not os.path.isdir(dataset_location):\n",
    "        os.makedirs(dataset_location)\n",
    "    file_path = os.path.join(dataset_location, filename)\n",
    "    urllib.request.urlretrieve(full_url, file_path)"
   ]
  },
  {
   "cell_type": "code",
   "execution_count": 23,
   "metadata": {
    "collapsed": true
   },
   "outputs": [],
   "source": [
    "fetch_data(\"cylinder-bands.csv\")"
   ]
  },
  {
   "cell_type": "code",
   "execution_count": 24,
   "metadata": {
    "collapsed": true
   },
   "outputs": [],
   "source": [
    "def load_data(filename, dataset_location=dataset_location):\n",
    "    csv_path = os.path.join(dataset_location, filename)\n",
    "    return pd.read_csv(csv_path, header=None)"
   ]
  },
  {
   "cell_type": "code",
   "execution_count": 25,
   "metadata": {},
   "outputs": [
    {
     "data": {
      "text/html": [
       "<div>\n",
       "<style>\n",
       "    .dataframe thead tr:only-child th {\n",
       "        text-align: right;\n",
       "    }\n",
       "\n",
       "    .dataframe thead th {\n",
       "        text-align: left;\n",
       "    }\n",
       "\n",
       "    .dataframe tbody tr th {\n",
       "        vertical-align: top;\n",
       "    }\n",
       "</style>\n",
       "<table border=\"1\" class=\"dataframe\">\n",
       "  <thead>\n",
       "    <tr style=\"text-align: right;\">\n",
       "      <th></th>\n",
       "      <th>0</th>\n",
       "      <th>1</th>\n",
       "      <th>2</th>\n",
       "      <th>3</th>\n",
       "      <th>4</th>\n",
       "      <th>5</th>\n",
       "      <th>6</th>\n",
       "      <th>7</th>\n",
       "      <th>8</th>\n",
       "      <th>9</th>\n",
       "      <th>...</th>\n",
       "      <th>30</th>\n",
       "      <th>31</th>\n",
       "      <th>32</th>\n",
       "      <th>33</th>\n",
       "      <th>34</th>\n",
       "      <th>35</th>\n",
       "      <th>36</th>\n",
       "      <th>37</th>\n",
       "      <th>38</th>\n",
       "      <th>39</th>\n",
       "    </tr>\n",
       "  </thead>\n",
       "  <tbody>\n",
       "    <tr>\n",
       "      <th>0</th>\n",
       "      <td>19910108</td>\n",
       "      <td>X126</td>\n",
       "      <td>TVGUIDE</td>\n",
       "      <td>25503</td>\n",
       "      <td>YES</td>\n",
       "      <td>KEY</td>\n",
       "      <td>YES</td>\n",
       "      <td>BENTON</td>\n",
       "      <td>GALLATIN</td>\n",
       "      <td>UNCOATED</td>\n",
       "      <td>...</td>\n",
       "      <td>36.4</td>\n",
       "      <td>0</td>\n",
       "      <td>0</td>\n",
       "      <td>2.5</td>\n",
       "      <td>1</td>\n",
       "      <td>34</td>\n",
       "      <td>40</td>\n",
       "      <td>105</td>\n",
       "      <td>100</td>\n",
       "      <td>band</td>\n",
       "    </tr>\n",
       "    <tr>\n",
       "      <th>1</th>\n",
       "      <td>19910109</td>\n",
       "      <td>X266</td>\n",
       "      <td>TVGUIDE</td>\n",
       "      <td>25503</td>\n",
       "      <td>YES</td>\n",
       "      <td>KEY</td>\n",
       "      <td>YES</td>\n",
       "      <td>BENTON</td>\n",
       "      <td>GALLATIN</td>\n",
       "      <td>UNCOATED</td>\n",
       "      <td>...</td>\n",
       "      <td>38.5</td>\n",
       "      <td>0</td>\n",
       "      <td>0</td>\n",
       "      <td>2.5</td>\n",
       "      <td>0.7</td>\n",
       "      <td>34</td>\n",
       "      <td>40</td>\n",
       "      <td>105</td>\n",
       "      <td>100</td>\n",
       "      <td>noband</td>\n",
       "    </tr>\n",
       "    <tr>\n",
       "      <th>2</th>\n",
       "      <td>19910104</td>\n",
       "      <td>B7</td>\n",
       "      <td>MODMAT</td>\n",
       "      <td>47201</td>\n",
       "      <td>YES</td>\n",
       "      <td>KEY</td>\n",
       "      <td>YES</td>\n",
       "      <td>BENTON</td>\n",
       "      <td>GALLATIN</td>\n",
       "      <td>UNCOATED</td>\n",
       "      <td>...</td>\n",
       "      <td>39.8</td>\n",
       "      <td>0</td>\n",
       "      <td>0</td>\n",
       "      <td>2.8</td>\n",
       "      <td>0.9</td>\n",
       "      <td>40</td>\n",
       "      <td>40</td>\n",
       "      <td>103.87</td>\n",
       "      <td>100</td>\n",
       "      <td>noband</td>\n",
       "    </tr>\n",
       "    <tr>\n",
       "      <th>3</th>\n",
       "      <td>19910104</td>\n",
       "      <td>T133</td>\n",
       "      <td>MASSEY</td>\n",
       "      <td>39039</td>\n",
       "      <td>YES</td>\n",
       "      <td>KEY</td>\n",
       "      <td>YES</td>\n",
       "      <td>BENTON</td>\n",
       "      <td>GALLATIN</td>\n",
       "      <td>UNCOATED</td>\n",
       "      <td>...</td>\n",
       "      <td>38.8</td>\n",
       "      <td>0</td>\n",
       "      <td>0</td>\n",
       "      <td>2.5</td>\n",
       "      <td>1.3</td>\n",
       "      <td>40</td>\n",
       "      <td>40</td>\n",
       "      <td>108.06</td>\n",
       "      <td>100</td>\n",
       "      <td>noband</td>\n",
       "    </tr>\n",
       "    <tr>\n",
       "      <th>4</th>\n",
       "      <td>19910111</td>\n",
       "      <td>J34</td>\n",
       "      <td>KMART</td>\n",
       "      <td>37351</td>\n",
       "      <td>NO</td>\n",
       "      <td>KEY</td>\n",
       "      <td>YES</td>\n",
       "      <td>BENTON</td>\n",
       "      <td>GALLATIN</td>\n",
       "      <td>UNCOATED</td>\n",
       "      <td>...</td>\n",
       "      <td>42.5</td>\n",
       "      <td>5</td>\n",
       "      <td>0</td>\n",
       "      <td>2.3</td>\n",
       "      <td>0.6</td>\n",
       "      <td>35</td>\n",
       "      <td>40</td>\n",
       "      <td>106.67</td>\n",
       "      <td>100</td>\n",
       "      <td>noband</td>\n",
       "    </tr>\n",
       "  </tbody>\n",
       "</table>\n",
       "<p>5 rows × 40 columns</p>\n",
       "</div>"
      ],
      "text/plain": [
       "         0     1        2      3    4    5    6       7         8         9   \\\n",
       "0  19910108  X126  TVGUIDE  25503  YES  KEY  YES  BENTON  GALLATIN  UNCOATED   \n",
       "1  19910109  X266  TVGUIDE  25503  YES  KEY  YES  BENTON  GALLATIN  UNCOATED   \n",
       "2  19910104    B7   MODMAT  47201  YES  KEY  YES  BENTON  GALLATIN  UNCOATED   \n",
       "3  19910104  T133   MASSEY  39039  YES  KEY  YES  BENTON  GALLATIN  UNCOATED   \n",
       "4  19910111   J34    KMART  37351   NO  KEY  YES  BENTON  GALLATIN  UNCOATED   \n",
       "\n",
       "    ...      30 31 32   33   34  35  36      37   38      39  \n",
       "0   ...    36.4  0  0  2.5    1  34  40     105  100    band  \n",
       "1   ...    38.5  0  0  2.5  0.7  34  40     105  100  noband  \n",
       "2   ...    39.8  0  0  2.8  0.9  40  40  103.87  100  noband  \n",
       "3   ...    38.8  0  0  2.5  1.3  40  40  108.06  100  noband  \n",
       "4   ...    42.5  5  0  2.3  0.6  35  40  106.67  100  noband  \n",
       "\n",
       "[5 rows x 40 columns]"
      ]
     },
     "execution_count": 25,
     "metadata": {},
     "output_type": "execute_result"
    }
   ],
   "source": [
    "cylinder_bands = load_data(\"cylinder-bands.csv\")\n",
    "cylinder_bands.head()"
   ]
  },
  {
   "cell_type": "code",
   "execution_count": 26,
   "metadata": {
    "collapsed": true
   },
   "outputs": [],
   "source": [
    "attributes = [\n",
    "    'timestamp',\n",
    "    'cylinder number',\n",
    "    'customer',\n",
    "    'job number',\n",
    "    'grain screened',\n",
    "    'ink color',\n",
    "    'proof on ctd ink',\n",
    "    'blade mfg',\n",
    "    'cylinder divisional',\n",
    "    'paper type',\n",
    "    'ink type',\n",
    "    'direct stream',\n",
    "    'solvent type',\n",
    "    'type on cylinder',\n",
    "    'press type',\n",
    "    'press',\n",
    "    'unit number',\n",
    "    'cylinder size',\n",
    "    'paper mill location',\n",
    "    'plating tank',\n",
    "    'proof cut',\n",
    "    'viscosity',\n",
    "    'caliper',\n",
    "    'ink temperature',\n",
    "    'humidity',\n",
    "    'roughness',\n",
    "    'blade pressure',\n",
    "    'varnish pct',\n",
    "    'press speed',\n",
    "    'ink pct',\n",
    "    'solvent pct',\n",
    "    'ESA Voltage',\n",
    "    'ESA Amperage',\n",
    "    'wax',\n",
    "    'hardener',\n",
    "    'roller durometer',\n",
    "    'current density',\n",
    "    'anode space ratio',\n",
    "    'chrome content',\n",
    "    'band type',\n",
    "]"
   ]
  },
  {
   "cell_type": "code",
   "execution_count": 27,
   "metadata": {},
   "outputs": [
    {
     "data": {
      "text/plain": [
       "40"
      ]
     },
     "execution_count": 27,
     "metadata": {},
     "output_type": "execute_result"
    }
   ],
   "source": [
    "len(attributes)"
   ]
  },
  {
   "cell_type": "code",
   "execution_count": 28,
   "metadata": {
    "collapsed": true
   },
   "outputs": [],
   "source": [
    "cylinder_bands.columns = attributes"
   ]
  },
  {
   "cell_type": "code",
   "execution_count": 29,
   "metadata": {},
   "outputs": [
    {
     "data": {
      "text/html": [
       "<div>\n",
       "<style>\n",
       "    .dataframe thead tr:only-child th {\n",
       "        text-align: right;\n",
       "    }\n",
       "\n",
       "    .dataframe thead th {\n",
       "        text-align: left;\n",
       "    }\n",
       "\n",
       "    .dataframe tbody tr th {\n",
       "        vertical-align: top;\n",
       "    }\n",
       "</style>\n",
       "<table border=\"1\" class=\"dataframe\">\n",
       "  <thead>\n",
       "    <tr style=\"text-align: right;\">\n",
       "      <th></th>\n",
       "      <th>timestamp</th>\n",
       "      <th>cylinder number</th>\n",
       "      <th>customer</th>\n",
       "      <th>job number</th>\n",
       "      <th>grain screened</th>\n",
       "      <th>ink color</th>\n",
       "      <th>proof on ctd ink</th>\n",
       "      <th>blade mfg</th>\n",
       "      <th>cylinder divisional</th>\n",
       "      <th>paper type</th>\n",
       "      <th>...</th>\n",
       "      <th>solvent pct</th>\n",
       "      <th>ESA Voltage</th>\n",
       "      <th>ESA Amperage</th>\n",
       "      <th>wax</th>\n",
       "      <th>hardener</th>\n",
       "      <th>roller durometer</th>\n",
       "      <th>current density</th>\n",
       "      <th>anode space ratio</th>\n",
       "      <th>chrome content</th>\n",
       "      <th>band type</th>\n",
       "    </tr>\n",
       "  </thead>\n",
       "  <tbody>\n",
       "    <tr>\n",
       "      <th>0</th>\n",
       "      <td>19910108</td>\n",
       "      <td>X126</td>\n",
       "      <td>TVGUIDE</td>\n",
       "      <td>25503</td>\n",
       "      <td>YES</td>\n",
       "      <td>KEY</td>\n",
       "      <td>YES</td>\n",
       "      <td>BENTON</td>\n",
       "      <td>GALLATIN</td>\n",
       "      <td>UNCOATED</td>\n",
       "      <td>...</td>\n",
       "      <td>36.4</td>\n",
       "      <td>0</td>\n",
       "      <td>0</td>\n",
       "      <td>2.5</td>\n",
       "      <td>1</td>\n",
       "      <td>34</td>\n",
       "      <td>40</td>\n",
       "      <td>105</td>\n",
       "      <td>100</td>\n",
       "      <td>band</td>\n",
       "    </tr>\n",
       "    <tr>\n",
       "      <th>1</th>\n",
       "      <td>19910109</td>\n",
       "      <td>X266</td>\n",
       "      <td>TVGUIDE</td>\n",
       "      <td>25503</td>\n",
       "      <td>YES</td>\n",
       "      <td>KEY</td>\n",
       "      <td>YES</td>\n",
       "      <td>BENTON</td>\n",
       "      <td>GALLATIN</td>\n",
       "      <td>UNCOATED</td>\n",
       "      <td>...</td>\n",
       "      <td>38.5</td>\n",
       "      <td>0</td>\n",
       "      <td>0</td>\n",
       "      <td>2.5</td>\n",
       "      <td>0.7</td>\n",
       "      <td>34</td>\n",
       "      <td>40</td>\n",
       "      <td>105</td>\n",
       "      <td>100</td>\n",
       "      <td>noband</td>\n",
       "    </tr>\n",
       "    <tr>\n",
       "      <th>2</th>\n",
       "      <td>19910104</td>\n",
       "      <td>B7</td>\n",
       "      <td>MODMAT</td>\n",
       "      <td>47201</td>\n",
       "      <td>YES</td>\n",
       "      <td>KEY</td>\n",
       "      <td>YES</td>\n",
       "      <td>BENTON</td>\n",
       "      <td>GALLATIN</td>\n",
       "      <td>UNCOATED</td>\n",
       "      <td>...</td>\n",
       "      <td>39.8</td>\n",
       "      <td>0</td>\n",
       "      <td>0</td>\n",
       "      <td>2.8</td>\n",
       "      <td>0.9</td>\n",
       "      <td>40</td>\n",
       "      <td>40</td>\n",
       "      <td>103.87</td>\n",
       "      <td>100</td>\n",
       "      <td>noband</td>\n",
       "    </tr>\n",
       "    <tr>\n",
       "      <th>3</th>\n",
       "      <td>19910104</td>\n",
       "      <td>T133</td>\n",
       "      <td>MASSEY</td>\n",
       "      <td>39039</td>\n",
       "      <td>YES</td>\n",
       "      <td>KEY</td>\n",
       "      <td>YES</td>\n",
       "      <td>BENTON</td>\n",
       "      <td>GALLATIN</td>\n",
       "      <td>UNCOATED</td>\n",
       "      <td>...</td>\n",
       "      <td>38.8</td>\n",
       "      <td>0</td>\n",
       "      <td>0</td>\n",
       "      <td>2.5</td>\n",
       "      <td>1.3</td>\n",
       "      <td>40</td>\n",
       "      <td>40</td>\n",
       "      <td>108.06</td>\n",
       "      <td>100</td>\n",
       "      <td>noband</td>\n",
       "    </tr>\n",
       "    <tr>\n",
       "      <th>4</th>\n",
       "      <td>19910111</td>\n",
       "      <td>J34</td>\n",
       "      <td>KMART</td>\n",
       "      <td>37351</td>\n",
       "      <td>NO</td>\n",
       "      <td>KEY</td>\n",
       "      <td>YES</td>\n",
       "      <td>BENTON</td>\n",
       "      <td>GALLATIN</td>\n",
       "      <td>UNCOATED</td>\n",
       "      <td>...</td>\n",
       "      <td>42.5</td>\n",
       "      <td>5</td>\n",
       "      <td>0</td>\n",
       "      <td>2.3</td>\n",
       "      <td>0.6</td>\n",
       "      <td>35</td>\n",
       "      <td>40</td>\n",
       "      <td>106.67</td>\n",
       "      <td>100</td>\n",
       "      <td>noband</td>\n",
       "    </tr>\n",
       "  </tbody>\n",
       "</table>\n",
       "<p>5 rows × 40 columns</p>\n",
       "</div>"
      ],
      "text/plain": [
       "  timestamp cylinder number customer job number grain screened ink color  \\\n",
       "0  19910108            X126  TVGUIDE      25503            YES       KEY   \n",
       "1  19910109            X266  TVGUIDE      25503            YES       KEY   \n",
       "2  19910104              B7   MODMAT      47201            YES       KEY   \n",
       "3  19910104            T133   MASSEY      39039            YES       KEY   \n",
       "4  19910111             J34    KMART      37351             NO       KEY   \n",
       "\n",
       "  proof on ctd ink blade mfg cylinder divisional paper type    ...     \\\n",
       "0              YES    BENTON            GALLATIN   UNCOATED    ...      \n",
       "1              YES    BENTON            GALLATIN   UNCOATED    ...      \n",
       "2              YES    BENTON            GALLATIN   UNCOATED    ...      \n",
       "3              YES    BENTON            GALLATIN   UNCOATED    ...      \n",
       "4              YES    BENTON            GALLATIN   UNCOATED    ...      \n",
       "\n",
       "  solvent pct ESA Voltage ESA Amperage  wax hardener roller durometer  \\\n",
       "0        36.4           0            0  2.5        1               34   \n",
       "1        38.5           0            0  2.5      0.7               34   \n",
       "2        39.8           0            0  2.8      0.9               40   \n",
       "3        38.8           0            0  2.5      1.3               40   \n",
       "4        42.5           5            0  2.3      0.6               35   \n",
       "\n",
       "   current density anode space ratio chrome content band type  \n",
       "0               40               105            100      band  \n",
       "1               40               105            100    noband  \n",
       "2               40            103.87            100    noband  \n",
       "3               40            108.06            100    noband  \n",
       "4               40            106.67            100    noband  \n",
       "\n",
       "[5 rows x 40 columns]"
      ]
     },
     "execution_count": 29,
     "metadata": {},
     "output_type": "execute_result"
    }
   ],
   "source": [
    "cylinder_bands.head()"
   ]
  },
  {
   "cell_type": "markdown",
   "metadata": {},
   "source": [
    "## Reformatting Data Types"
   ]
  },
  {
   "cell_type": "code",
   "execution_count": 30,
   "metadata": {
    "scrolled": false
   },
   "outputs": [
    {
     "name": "stdout",
     "output_type": "stream",
     "text": [
      "<class 'pandas.core.frame.DataFrame'>\n",
      "RangeIndex: 541 entries, 0 to 540\n",
      "Data columns (total 40 columns):\n",
      "timestamp              541 non-null object\n",
      "cylinder number        541 non-null object\n",
      "customer               541 non-null object\n",
      "job number             541 non-null object\n",
      "grain screened         541 non-null object\n",
      "ink color              541 non-null object\n",
      "proof on ctd ink       541 non-null object\n",
      "blade mfg              541 non-null object\n",
      "cylinder divisional    541 non-null object\n",
      "paper type             541 non-null object\n",
      "ink type               541 non-null object\n",
      "direct stream          541 non-null object\n",
      "solvent type           541 non-null object\n",
      "type on cylinder       541 non-null object\n",
      "press type             541 non-null object\n",
      "press                  541 non-null object\n",
      "unit number            541 non-null float64\n",
      "cylinder size          540 non-null object\n",
      "paper mill location    540 non-null object\n",
      "plating tank           540 non-null object\n",
      "proof cut              540 non-null object\n",
      "viscosity              540 non-null object\n",
      "caliper                540 non-null object\n",
      "ink temperature        539 non-null object\n",
      "humidity               539 non-null object\n",
      "roughness              539 non-null object\n",
      "blade pressure         539 non-null object\n",
      "varnish pct            539 non-null object\n",
      "press speed            539 non-null object\n",
      "ink pct                539 non-null object\n",
      "solvent pct            539 non-null object\n",
      "ESA Voltage            539 non-null object\n",
      "ESA Amperage           539 non-null object\n",
      "wax                    539 non-null object\n",
      "hardener               539 non-null object\n",
      "roller durometer       539 non-null object\n",
      "current density        539 non-null object\n",
      "anode space ratio      539 non-null object\n",
      "chrome content         539 non-null object\n",
      "band type              539 non-null object\n",
      "dtypes: float64(1), object(39)\n",
      "memory usage: 169.1+ KB\n"
     ]
    }
   ],
   "source": [
    "cylinder_bands.info()"
   ]
  },
  {
   "cell_type": "code",
   "execution_count": 31,
   "metadata": {
    "collapsed": true
   },
   "outputs": [],
   "source": [
    "dt_attributes = [\n",
    "    'timestamp',\n",
    "]\n",
    "\n",
    "cat_attributes = [\n",
    "    'cylinder number',\n",
    "    'customer',\n",
    "    'job number',\n",
    "    'grain screened',\n",
    "    'ink color',\n",
    "    'proof on ctd ink',\n",
    "    'blade mfg',\n",
    "    'cylinder divisional',\n",
    "    'paper type',\n",
    "    'ink type',\n",
    "    'direct stream',\n",
    "    'solvent type',\n",
    "    'type on cylinder',\n",
    "    'press type',\n",
    "    'press',\n",
    "    'unit number',\n",
    "    'cylinder size',\n",
    "    'paper mill location',\n",
    "    'plating tank',\n",
    "]\n",
    "\n",
    "num_attributes = [\n",
    "    'proof cut',\n",
    "    'viscosity',\n",
    "    'caliper',\n",
    "    'ink temperature',\n",
    "    'humidity',\n",
    "    'roughness',\n",
    "    'blade pressure',\n",
    "    'varnish pct',\n",
    "    'press speed',\n",
    "    'ink pct',\n",
    "    'solvent pct',\n",
    "    'ESA Voltage',\n",
    "    'ESA Amperage',\n",
    "    'wax',\n",
    "    'hardener',\n",
    "    'roller durometer',\n",
    "    'current density',\n",
    "    'anode space ratio',\n",
    "    'chrome content',\n",
    "]"
   ]
  },
  {
   "cell_type": "code",
   "execution_count": 32,
   "metadata": {},
   "outputs": [],
   "source": [
    "def contextual_convert(df, dt_attributes=dt_attributes, num_attributes=num_attributes, cat_attributes=cat_attributes):\n",
    "    attributes = dt_attributes + num_attributes + cat_attributes\n",
    "    for att in attributes:\n",
    "        if att in dt_attributes:\n",
    "            df[att] = pd.to_datetime(df[att], format=\"%Y%m%d\", errors='coerce')\n",
    "        elif att in num_attributes:\n",
    "            df[att] = pd.to_numeric(df[att], errors='coerce')\n",
    "        elif att in cat_attributes:\n",
    "            df[att] = df[att].astype('category')\n",
    "        else:\n",
    "            pass"
   ]
  },
  {
   "cell_type": "code",
   "execution_count": 33,
   "metadata": {},
   "outputs": [],
   "source": [
    "contextual_convert(cylinder_bands)"
   ]
  },
  {
   "cell_type": "code",
   "execution_count": 34,
   "metadata": {},
   "outputs": [
    {
     "name": "stdout",
     "output_type": "stream",
     "text": [
      "<class 'pandas.core.frame.DataFrame'>\n",
      "RangeIndex: 541 entries, 0 to 540\n",
      "Data columns (total 1 columns):\n",
      "timestamp    540 non-null datetime64[ns]\n",
      "dtypes: datetime64[ns](1)\n",
      "memory usage: 4.3 KB\n"
     ]
    }
   ],
   "source": [
    "cylinder_bands[dt_attributes].info()"
   ]
  },
  {
   "cell_type": "code",
   "execution_count": 35,
   "metadata": {},
   "outputs": [
    {
     "name": "stdout",
     "output_type": "stream",
     "text": [
      "<class 'pandas.core.frame.DataFrame'>\n",
      "RangeIndex: 541 entries, 0 to 540\n",
      "Data columns (total 19 columns):\n",
      "cylinder number        541 non-null category\n",
      "customer               541 non-null category\n",
      "job number             541 non-null category\n",
      "grain screened         541 non-null category\n",
      "ink color              541 non-null category\n",
      "proof on ctd ink       541 non-null category\n",
      "blade mfg              541 non-null category\n",
      "cylinder divisional    541 non-null category\n",
      "paper type             541 non-null category\n",
      "ink type               541 non-null category\n",
      "direct stream          541 non-null category\n",
      "solvent type           541 non-null category\n",
      "type on cylinder       541 non-null category\n",
      "press type             541 non-null category\n",
      "press                  541 non-null category\n",
      "unit number            541 non-null category\n",
      "cylinder size          540 non-null category\n",
      "paper mill location    540 non-null category\n",
      "plating tank           540 non-null category\n",
      "dtypes: category(19)\n",
      "memory usage: 53.7 KB\n"
     ]
    }
   ],
   "source": [
    "cylinder_bands[cat_attributes].info()"
   ]
  },
  {
   "cell_type": "code",
   "execution_count": 36,
   "metadata": {
    "scrolled": true
   },
   "outputs": [
    {
     "name": "stdout",
     "output_type": "stream",
     "text": [
      "<class 'pandas.core.frame.DataFrame'>\n",
      "RangeIndex: 541 entries, 0 to 540\n",
      "Data columns (total 19 columns):\n",
      "proof cut            486 non-null float64\n",
      "viscosity            535 non-null float64\n",
      "caliper              512 non-null float64\n",
      "ink temperature      537 non-null float64\n",
      "humidity             538 non-null float64\n",
      "roughness            509 non-null float64\n",
      "blade pressure       476 non-null float64\n",
      "varnish pct          484 non-null float64\n",
      "press speed          529 non-null float64\n",
      "ink pct              484 non-null float64\n",
      "solvent pct          484 non-null float64\n",
      "ESA Voltage          483 non-null float64\n",
      "ESA Amperage         485 non-null float64\n",
      "wax                  533 non-null float64\n",
      "hardener             532 non-null float64\n",
      "roller durometer     485 non-null float64\n",
      "current density      532 non-null float64\n",
      "anode space ratio    532 non-null float64\n",
      "chrome content       536 non-null float64\n",
      "dtypes: float64(19)\n",
      "memory usage: 80.4 KB\n"
     ]
    }
   ],
   "source": [
    "cylinder_bands[num_attributes].info()"
   ]
  },
  {
   "cell_type": "code",
   "execution_count": 37,
   "metadata": {
    "collapsed": true
   },
   "outputs": [
    {
     "data": {
      "text/plain": [
       "0            TVGUIDE\n",
       "1            TVGUIDE\n",
       "2             MODMAT\n",
       "3             MASSEY\n",
       "4              KMART\n",
       "5             MASSEY\n",
       "6              ROSES\n",
       "7              ROSES\n",
       "8             MODMAT\n",
       "9         CHILDCRAFT\n",
       "10        CHILDCRAFT\n",
       "11       HANOVRHOUSE\n",
       "12        HANOVRHOUS\n",
       "13        GUIDEPOSTS\n",
       "14        HANOVRHOUS\n",
       "15            MODMAT\n",
       "16          HOMESHOP\n",
       "17          HOMESHOP\n",
       "18             USCAV\n",
       "19             USCAV\n",
       "20          COLORTIL\n",
       "21          COLORTIL\n",
       "22             WARDS\n",
       "23            TARGET\n",
       "24             KMART\n",
       "25             KMART\n",
       "26             KMART\n",
       "27             KMART\n",
       "28         WOOLWORTH\n",
       "29              AMES\n",
       "           ...      \n",
       "511          VENTURE\n",
       "512         HOMESHOP\n",
       "513         HOMESHOP\n",
       "514           MODMAT\n",
       "515           TARGET\n",
       "516              JFK\n",
       "517    COLORFULIMAGE\n",
       "518         BESTPROD\n",
       "519            KMART\n",
       "520          TOYSRUS\n",
       "521          ECKERDS\n",
       "522             1910\n",
       "523           MODMAT\n",
       "524            KMART\n",
       "525            KMART\n",
       "526           MODMAT\n",
       "527          TOYSRUS\n",
       "528         HOMESHOP\n",
       "529          TOYSRUS\n",
       "530              JCP\n",
       "531          WALMART\n",
       "532            KMART\n",
       "533           ECKERD\n",
       "534           ECKERD\n",
       "535            KMART\n",
       "536            KMART\n",
       "537             BEST\n",
       "538            KMART\n",
       "539            KMART\n",
       "540             BEST\n",
       "Name: customer, Length: 541, dtype: object"
      ]
     },
     "execution_count": 37,
     "metadata": {},
     "output_type": "execute_result"
    }
   ],
   "source": [
    "cylinder_bands['customer'].str.upper()"
   ]
  },
  {
   "cell_type": "code",
   "execution_count": 38,
   "metadata": {
    "scrolled": true
   },
   "outputs": [
    {
     "data": {
      "text/plain": [
       "MODMAT            61\n",
       "KMART             54\n",
       "TARGET            40\n",
       "TVGUIDE           38\n",
       "WARDS             33\n",
       "AMES              24\n",
       "TOYSRUS           23\n",
       "ROSES             22\n",
       "kmart             13\n",
       "BESTPROD           9\n",
       "SHEPLERS           9\n",
       "ECKERD             9\n",
       "WOOLWORTH          9\n",
       "CHILDCRAFT         9\n",
       "WALMART            9\n",
       "AUSTADS            8\n",
       "HILLS              8\n",
       "MASSEY             7\n",
       "ECKERDS            7\n",
       "DOWNS              7\n",
       "GUIDEPOSTS         6\n",
       "USCAV              6\n",
       "REI                5\n",
       "COLORTILE          5\n",
       "HANOVERHOUSE       4\n",
       "BELK               4\n",
       "homeshop           4\n",
       "DUNNS              4\n",
       "SEARS              4\n",
       "ABBEY              4\n",
       "                  ..\n",
       "HOMESHOP           2\n",
       "HOMESHOPPING       2\n",
       "WOOLWRTH           2\n",
       "CAMPINGWORLD       2\n",
       "JCPENNY            2\n",
       "BURDINES           2\n",
       "SERVMERCH          2\n",
       "LAZARUS            2\n",
       "OLDVILLAGESHOP     2\n",
       "BRENDLS            2\n",
       "COLORTIL           2\n",
       "ADCO               1\n",
       "walmart            1\n",
       "GALLS              1\n",
       "colorfulimage      1\n",
       "target             1\n",
       "jfk                1\n",
       "jcp                1\n",
       "homeshopping       1\n",
       "hanoverhouse       1\n",
       "eckerds            1\n",
       "YIELDHOUSE         1\n",
       "GLOBAL             1\n",
       "PENNEY             1\n",
       "NTLWILDLIFE        1\n",
       "KIDSRUS            1\n",
       "venture            1\n",
       "HANOVRHOUSE        1\n",
       "GLOBALEQUP         1\n",
       "1910               1\n",
       "Name: customer, Length: 84, dtype: int64"
      ]
     },
     "execution_count": 38,
     "metadata": {},
     "output_type": "execute_result"
    }
   ],
   "source": [
    "cylinder_bands['customer'].value_counts()"
   ]
  },
  {
   "cell_type": "code",
   "execution_count": 53,
   "metadata": {
    "collapsed": true
   },
   "outputs": [],
   "source": [
    "def capitalize_columns(df, cols):\n",
    "    for col in cols:\n",
    "        df[col] = df[col].str.upper()"
   ]
  },
  {
   "cell_type": "code",
   "execution_count": 39,
   "metadata": {
    "collapsed": true
   },
   "outputs": [],
   "source": [
    "cylinder_bands['customer'] = cylinder_bands['customer'].str.upper()"
   ]
  },
  {
   "cell_type": "code",
   "execution_count": 54,
   "metadata": {
    "collapsed": true
   },
   "outputs": [],
   "source": [
    "capitalize_columns(cylinder_bands, ['customer', 'cylinder number'])"
   ]
  },
  {
   "cell_type": "markdown",
   "metadata": {},
   "source": [
    "## Preprocessing Pipelines"
   ]
  },
  {
   "cell_type": "code",
   "execution_count": 58,
   "metadata": {
    "collapsed": true
   },
   "outputs": [],
   "source": [
    "from category_encoders import OrdinalEncoder, OneHotEncoder"
   ]
  },
  {
   "cell_type": "code",
   "execution_count": null,
   "metadata": {
    "collapsed": true
   },
   "outputs": [],
   "source": [
    "from sklearn.base import BaseEstimator, TransformerMixin\n",
    "\n",
    "# Create a class to select numerical or categorical columns \n",
    "# since Scikit-Learn doesn't handle DataFrames yet\n",
    "class DataFrameSelector(BaseEstimator, TransformerMixin):\n",
    "    def __init__(self, attribute_names):\n",
    "        self.attribute_names = attribute_names\n",
    "    def fit(self, X, y=None):\n",
    "        return self\n",
    "    def transform(self, X):\n",
    "        return X[self.attribute_names].values"
   ]
  },
  {
   "cell_type": "markdown",
   "metadata": {},
   "source": [
    "## Scratch Work"
   ]
  },
  {
   "cell_type": "code",
   "execution_count": 65,
   "metadata": {},
   "outputs": [
    {
     "data": {
      "text/plain": [
       "TABLOID    281\n",
       "CATALOG    164\n",
       "SPIEGEL     54\n",
       "tabloid     17\n",
       "catalog     14\n",
       "spiegel      6\n",
       "?            3\n",
       "0.7          1\n",
       "Name: cylinder size, dtype: int64"
      ]
     },
     "execution_count": 65,
     "metadata": {},
     "output_type": "execute_result"
    }
   ],
   "source": [
    "cylinder_bands['cylinder size'].value_counts()"
   ]
  },
  {
   "cell_type": "code",
   "execution_count": 74,
   "metadata": {},
   "outputs": [
    {
     "data": {
      "text/plain": [
       "1910    331\n",
       "1911    190\n",
       "?        18\n",
       "40        1\n",
       "Name: plating tank, dtype: int64"
      ]
     },
     "execution_count": 74,
     "metadata": {},
     "output_type": "execute_result"
    }
   ],
   "source": [
    "cylinder_bands['plating tank'].value_counts()"
   ]
  },
  {
   "cell_type": "code",
   "execution_count": 67,
   "metadata": {},
   "outputs": [
    {
     "data": {
      "text/html": [
       "<div>\n",
       "<style>\n",
       "    .dataframe thead tr:only-child th {\n",
       "        text-align: right;\n",
       "    }\n",
       "\n",
       "    .dataframe thead th {\n",
       "        text-align: left;\n",
       "    }\n",
       "\n",
       "    .dataframe tbody tr th {\n",
       "        vertical-align: top;\n",
       "    }\n",
       "</style>\n",
       "<table border=\"1\" class=\"dataframe\">\n",
       "  <thead>\n",
       "    <tr style=\"text-align: right;\">\n",
       "      <th></th>\n",
       "      <th>timestamp</th>\n",
       "      <th>cylinder number</th>\n",
       "      <th>customer</th>\n",
       "      <th>job number</th>\n",
       "      <th>grain screened</th>\n",
       "      <th>ink color</th>\n",
       "      <th>proof on ctd ink</th>\n",
       "      <th>blade mfg</th>\n",
       "      <th>cylinder divisional</th>\n",
       "      <th>paper type</th>\n",
       "      <th>...</th>\n",
       "      <th>solvent pct</th>\n",
       "      <th>ESA Voltage</th>\n",
       "      <th>ESA Amperage</th>\n",
       "      <th>wax</th>\n",
       "      <th>hardener</th>\n",
       "      <th>roller durometer</th>\n",
       "      <th>current density</th>\n",
       "      <th>anode space ratio</th>\n",
       "      <th>chrome content</th>\n",
       "      <th>band type</th>\n",
       "    </tr>\n",
       "  </thead>\n",
       "  <tbody>\n",
       "    <tr>\n",
       "      <th>522</th>\n",
       "      <td>NaT</td>\n",
       "      <td>?</td>\n",
       "      <td>1910</td>\n",
       "      <td>?</td>\n",
       "      <td>45</td>\n",
       "      <td>0.200</td>\n",
       "      <td>17</td>\n",
       "      <td>84</td>\n",
       "      <td>0.8125</td>\n",
       "      <td>27</td>\n",
       "      <td>...</td>\n",
       "      <td>NaN</td>\n",
       "      <td>NaN</td>\n",
       "      <td>NaN</td>\n",
       "      <td>NaN</td>\n",
       "      <td>NaN</td>\n",
       "      <td>NaN</td>\n",
       "      <td>NaN</td>\n",
       "      <td>NaN</td>\n",
       "      <td>NaN</td>\n",
       "      <td>NaN</td>\n",
       "    </tr>\n",
       "  </tbody>\n",
       "</table>\n",
       "<p>1 rows × 40 columns</p>\n",
       "</div>"
      ],
      "text/plain": [
       "    timestamp cylinder number customer job number grain screened ink color  \\\n",
       "522       NaT               ?     1910          ?             45     0.200   \n",
       "\n",
       "    proof on ctd ink blade mfg cylinder divisional paper type    ...     \\\n",
       "522               17        84              0.8125         27    ...      \n",
       "\n",
       "    solvent pct ESA Voltage ESA Amperage wax hardener roller durometer  \\\n",
       "522         NaN         NaN          NaN NaN      NaN              NaN   \n",
       "\n",
       "    current density anode space ratio chrome content band type  \n",
       "522             NaN               NaN            NaN       NaN  \n",
       "\n",
       "[1 rows x 40 columns]"
      ]
     },
     "execution_count": 67,
     "metadata": {},
     "output_type": "execute_result"
    }
   ],
   "source": [
    "cylinder_bands[cylinder_bands['cylinder size'] == \"0.7\"]"
   ]
  },
  {
   "cell_type": "code",
   "execution_count": 68,
   "metadata": {
    "collapsed": true
   },
   "outputs": [],
   "source": [
    "raw_cylinder_bands = load_data(filename)"
   ]
  },
  {
   "cell_type": "code",
   "execution_count": 70,
   "metadata": {},
   "outputs": [
    {
     "data": {
      "text/plain": [
       "0     tabloid\n",
       "1           ?\n",
       "2        1910\n",
       "3           ?\n",
       "4          45\n",
       "5       0.200\n",
       "6          17\n",
       "7          84\n",
       "8      0.8125\n",
       "9          27\n",
       "10          ?\n",
       "11       1865\n",
       "12          ?\n",
       "13          ?\n",
       "14          ?\n",
       "15          ?\n",
       "16        1.5\n",
       "17        0.7\n",
       "18          ?\n",
       "19         40\n",
       "20      109.1\n",
       "21         95\n",
       "22       band\n",
       "23        NaN\n",
       "24        NaN\n",
       "25        NaN\n",
       "26        NaN\n",
       "27        NaN\n",
       "28        NaN\n",
       "29        NaN\n",
       "30        NaN\n",
       "31        NaN\n",
       "32        NaN\n",
       "33        NaN\n",
       "34        NaN\n",
       "35        NaN\n",
       "36        NaN\n",
       "37        NaN\n",
       "38        NaN\n",
       "39        NaN\n",
       "Name: 522, dtype: object"
      ]
     },
     "execution_count": 70,
     "metadata": {},
     "output_type": "execute_result"
    }
   ],
   "source": [
    "raw_cylinder_bands.iloc[522]"
   ]
  }
 ],
 "metadata": {
  "kernelspec": {
   "display_name": "Python 3",
   "language": "python",
   "name": "python3"
  },
  "language_info": {
   "codemirror_mode": {
    "name": "ipython",
    "version": 3
   },
   "file_extension": ".py",
   "mimetype": "text/x-python",
   "name": "python",
   "nbconvert_exporter": "python",
   "pygments_lexer": "ipython3",
   "version": "3.6.3"
  }
 },
 "nbformat": 4,
 "nbformat_minor": 2
}
